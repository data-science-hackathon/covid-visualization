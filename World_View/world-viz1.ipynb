{
 "cells": [
  {
   "cell_type": "markdown",
   "metadata": {},
   "source": [
    "# World View Viz-1"
   ]
  },
  {
   "cell_type": "code",
   "execution_count": 2,
   "metadata": {
    "colab": {
     "base_uri": "https://localhost:8080/",
     "height": 17
    },
    "colab_type": "code",
    "id": "-JMVWkTZr42L",
    "outputId": "76f4519d-5dd6-4f74-b309-ebe9118d9baf"
   },
   "outputs": [
    {
     "output_type": "display_data",
     "data": {
      "text/html": "        <script type=\"text/javascript\">\n        window.PlotlyConfig = {MathJaxConfig: 'local'};\n        if (window.MathJax) {MathJax.Hub.Config({SVG: {font: \"STIX-Web\"}});}\n        if (typeof require !== 'undefined') {\n        require.undef(\"plotly\");\n        requirejs.config({\n            paths: {\n                'plotly': ['https://cdn.plot.ly/plotly-latest.min']\n            }\n        });\n        require(['plotly'], function(Plotly) {\n            window._Plotly = Plotly;\n        });\n        }\n        </script>\n        "
     },
     "metadata": {}
    }
   ],
   "source": [
    "import pandas as pd\n",
    "import numpy as np\n",
    "import matplotlib as mp\n",
    "import sklearn as sk\n",
    "import plotly\n",
    "import plotly.graph_objs as go\n",
    "import plotly.offline as offline\n",
    "from plotly.graph_objs import *\n",
    "from plotly.offline import download_plotlyjs, init_notebook_mode, plot, iplot\n",
    "init_notebook_mode(connected=True)"
   ]
  },
  {
   "cell_type": "markdown",
   "metadata": {
    "colab_type": "text",
    "id": "x7t4DzrzBlPK"
   },
   "source": [
    "World View - World map visualization with covid cases per country."
   ]
  },
  {
   "cell_type": "code",
   "execution_count": 1,
   "metadata": {
    "colab": {
     "base_uri": "https://localhost:8080/",
     "height": 840
    },
    "colab_type": "code",
    "id": "lXJsHviODUgk",
    "outputId": "7cf0f75a-2a81-48cb-acb7-7a8bdfc46b40"
   },
   "outputs": [],
   "source": [
    "# url = 'https://raw.githubusercontent.com/OxCGRT/covid-policy-tracker/master/data/OxCGRT_latest.csv'\n",
    "# url = 'https://raw.githubusercontent.com/uw-covid-hackathon/covid-visualization/master/OXFORD_latest_imputed.csv'\n",
    "url = 'https://raw.githubusercontent.com/uw-covid-hackathon/covid-visualization/master/OXFORD_latest_daily_columns.csv'"
   ]
  },
  {
   "cell_type": "code",
   "execution_count": 3,
   "metadata": {
    "colab": {
     "base_uri": "https://localhost:8080/",
     "height": 840
    },
    "colab_type": "code",
    "id": "lXJsHviODUgk",
    "outputId": "7cf0f75a-2a81-48cb-acb7-7a8bdfc46b40"
   },
   "outputs": [],
   "source": [
    "latest_csv = pd.read_csv(url, error_bad_lines=False)\n",
    "# df = latest_csv.dropna(subset=['GovernmentResponseIndex'])\n",
    "latest_csv = latest_csv.drop(columns = ['M1_Wildcard'])\n",
    "policies = ['C1_School closing', 'C1_Flag',\n",
    "       'C2_Workplace closing', 'C2_Flag', 'C3_Cancel public events', 'C3_Flag',\n",
    "       'C4_Restrictions on gatherings', 'C4_Flag', 'C5_Close public transport',\n",
    "       'C5_Flag', 'C6_Stay at home requirements', 'C6_Flag',\n",
    "       'C7_Restrictions on internal movement', 'C7_Flag',\n",
    "       'C8_International travel controls', 'E1_Income support', 'E1_Flag',\n",
    "       'E2_Debt/contract relief',  'H1_Public information campaigns',\n",
    "       'H1_Flag', 'H2_Testing policy', 'H3_Contact tracing',\n",
    "       'M1_Wildcard']"
   ]
  },
  {
   "cell_type": "markdown",
   "metadata": {
    "colab_type": "text",
    "id": "sNS8aFo9lMOo"
   },
   "source": [
    "Focus on one Date for now, March 25th"
   ]
  },
  {
   "cell_type": "code",
   "execution_count": 4,
   "metadata": {
    "colab": {
     "base_uri": "https://localhost:8080/",
     "height": 640
    },
    "colab_type": "code",
    "id": "0JNXJUWidfwc",
    "outputId": "b2a3fabf-1ee8-47eb-a890-f50b292cedaa",
    "scrolled": true
   },
   "outputs": [
    {
     "output_type": "execute_result",
     "data": {
      "text/plain": "       CountryName        Date CountryCode  C1_School closing  C1_Flag  \\\n115    Afghanistan  2020-04-25         AFG                3.0      1.0   \n279        Albania  2020-04-25         ALB                3.0      1.0   \n443        Algeria  2020-04-25         DZA                3.0      1.0   \n607        Andorra  2020-04-25         AND                3.0      1.0   \n771         Angola  2020-04-25         AGO                3.0      1.0   \n...            ...         ...         ...                ...      ...   \n28088    Venezuela  2020-04-25         VEN                3.0      1.0   \n28252      Vietnam  2020-04-25         VNM                3.0      0.0   \n28416        Yemen  2020-04-25         YEM                3.0      1.0   \n28580       Zambia  2020-04-25         ZMB                3.0      1.0   \n28744     Zimbabwe  2020-04-25         ZWE                3.0      1.0   \n\n       C2_Workplace closing  C2_Flag  C3_Cancel public events  C3_Flag  \\\n115                     3.0      0.0                      2.0      1.0   \n279                     2.0      1.0                      2.0      1.0   \n443                     2.0      1.0                      2.0      1.0   \n607                     2.0      1.0                      1.0      1.0   \n771                     2.0      1.0                      2.0      1.0   \n...                     ...      ...                      ...      ...   \n28088                   3.0      1.0                      2.0      1.0   \n28252                   2.0      1.0                      2.0      1.0   \n28416                   1.0      0.0                      2.0      1.0   \n28580                   0.0      NaN                      2.0      0.0   \n28744                   3.0      1.0                      2.0      1.0   \n\n       C4_Restrictions on gatherings  ...  StringencyLegacyIndex  \\\n115                              4.0  ...                  83.33   \n279                              4.0  ...                  91.67   \n443                              4.0  ...                  91.67   \n607                              0.0  ...                  76.19   \n771                              4.0  ...                  83.33   \n...                              ...  ...                    ...   \n28088                            3.0  ...                  85.71   \n28252                            3.0  ...                  83.33   \n28416                            0.0  ...                  55.95   \n28580                            4.0  ...                  63.81   \n28744                            3.0  ...                  95.24   \n\n       StringencyLegacyIndexForDisplay  GovernmentResponseIndex  \\\n115                              83.33                    64.74   \n279                              91.67                    80.77   \n443                              91.67                    65.71   \n607                              76.19                    55.77   \n771                              83.33                    67.31   \n...                                ...                      ...   \n28088                            85.71                    67.31   \n28252                            83.33                    69.23   \n28416                            55.95                    28.21   \n28580                            63.81                    59.29   \n28744                            95.24                    71.15   \n\n       GovernmentResponseIndexForDisplay  ContainmentHealthIndex  \\\n115                                64.74                   76.52   \n279                                80.77                   84.09   \n443                                65.71                   70.83   \n607                                55.77                   56.82   \n771                                67.31                   70.45   \n...                                  ...                     ...   \n28088                              67.31                   70.45   \n28252                              69.23                   77.27   \n28416                              28.21                   33.33   \n28580                              59.29                   65.53   \n28744                              71.15                   79.55   \n\n       ContainmentHealthIndexForDisplay  EconomicSupportIndex  \\\n115                               76.52                   0.0   \n279                               84.09                  62.5   \n443                               70.83                  37.5   \n607                               56.82                  50.0   \n771                               70.45                  50.0   \n...                                 ...                   ...   \n28088                             70.45                  50.0   \n28252                             77.27                  25.0   \n28416                             33.33                   0.0   \n28580                             65.53                  25.0   \n28744                             79.55                  25.0   \n\n       EconomicSupportIndexForDisplay  NewConfirmedCases  NewConfirmedDeaths  \n115                               0.0               70.0                 1.0  \n279                              62.5               15.0                 0.0  \n443                              37.5              120.0                 8.0  \n607                              50.0                7.0                 3.0  \n771                              50.0                0.0                 0.0  \n...                               ...                ...                 ...  \n28088                            50.0               20.0                 0.0  \n28252                            25.0                0.0                 0.0  \n28416                             0.0                0.0                 0.0  \n28580                            25.0                8.0                 0.0  \n28744                            25.0                0.0                 1.0  \n\n[176 rows x 43 columns]",
      "text/html": "<div>\n<style scoped>\n    .dataframe tbody tr th:only-of-type {\n        vertical-align: middle;\n    }\n\n    .dataframe tbody tr th {\n        vertical-align: top;\n    }\n\n    .dataframe thead th {\n        text-align: right;\n    }\n</style>\n<table border=\"1\" class=\"dataframe\">\n  <thead>\n    <tr style=\"text-align: right;\">\n      <th></th>\n      <th>CountryName</th>\n      <th>Date</th>\n      <th>CountryCode</th>\n      <th>C1_School closing</th>\n      <th>C1_Flag</th>\n      <th>C2_Workplace closing</th>\n      <th>C2_Flag</th>\n      <th>C3_Cancel public events</th>\n      <th>C3_Flag</th>\n      <th>C4_Restrictions on gatherings</th>\n      <th>...</th>\n      <th>StringencyLegacyIndex</th>\n      <th>StringencyLegacyIndexForDisplay</th>\n      <th>GovernmentResponseIndex</th>\n      <th>GovernmentResponseIndexForDisplay</th>\n      <th>ContainmentHealthIndex</th>\n      <th>ContainmentHealthIndexForDisplay</th>\n      <th>EconomicSupportIndex</th>\n      <th>EconomicSupportIndexForDisplay</th>\n      <th>NewConfirmedCases</th>\n      <th>NewConfirmedDeaths</th>\n    </tr>\n  </thead>\n  <tbody>\n    <tr>\n      <th>115</th>\n      <td>Afghanistan</td>\n      <td>2020-04-25</td>\n      <td>AFG</td>\n      <td>3.0</td>\n      <td>1.0</td>\n      <td>3.0</td>\n      <td>0.0</td>\n      <td>2.0</td>\n      <td>1.0</td>\n      <td>4.0</td>\n      <td>...</td>\n      <td>83.33</td>\n      <td>83.33</td>\n      <td>64.74</td>\n      <td>64.74</td>\n      <td>76.52</td>\n      <td>76.52</td>\n      <td>0.0</td>\n      <td>0.0</td>\n      <td>70.0</td>\n      <td>1.0</td>\n    </tr>\n    <tr>\n      <th>279</th>\n      <td>Albania</td>\n      <td>2020-04-25</td>\n      <td>ALB</td>\n      <td>3.0</td>\n      <td>1.0</td>\n      <td>2.0</td>\n      <td>1.0</td>\n      <td>2.0</td>\n      <td>1.0</td>\n      <td>4.0</td>\n      <td>...</td>\n      <td>91.67</td>\n      <td>91.67</td>\n      <td>80.77</td>\n      <td>80.77</td>\n      <td>84.09</td>\n      <td>84.09</td>\n      <td>62.5</td>\n      <td>62.5</td>\n      <td>15.0</td>\n      <td>0.0</td>\n    </tr>\n    <tr>\n      <th>443</th>\n      <td>Algeria</td>\n      <td>2020-04-25</td>\n      <td>DZA</td>\n      <td>3.0</td>\n      <td>1.0</td>\n      <td>2.0</td>\n      <td>1.0</td>\n      <td>2.0</td>\n      <td>1.0</td>\n      <td>4.0</td>\n      <td>...</td>\n      <td>91.67</td>\n      <td>91.67</td>\n      <td>65.71</td>\n      <td>65.71</td>\n      <td>70.83</td>\n      <td>70.83</td>\n      <td>37.5</td>\n      <td>37.5</td>\n      <td>120.0</td>\n      <td>8.0</td>\n    </tr>\n    <tr>\n      <th>607</th>\n      <td>Andorra</td>\n      <td>2020-04-25</td>\n      <td>AND</td>\n      <td>3.0</td>\n      <td>1.0</td>\n      <td>2.0</td>\n      <td>1.0</td>\n      <td>1.0</td>\n      <td>1.0</td>\n      <td>0.0</td>\n      <td>...</td>\n      <td>76.19</td>\n      <td>76.19</td>\n      <td>55.77</td>\n      <td>55.77</td>\n      <td>56.82</td>\n      <td>56.82</td>\n      <td>50.0</td>\n      <td>50.0</td>\n      <td>7.0</td>\n      <td>3.0</td>\n    </tr>\n    <tr>\n      <th>771</th>\n      <td>Angola</td>\n      <td>2020-04-25</td>\n      <td>AGO</td>\n      <td>3.0</td>\n      <td>1.0</td>\n      <td>2.0</td>\n      <td>1.0</td>\n      <td>2.0</td>\n      <td>1.0</td>\n      <td>4.0</td>\n      <td>...</td>\n      <td>83.33</td>\n      <td>83.33</td>\n      <td>67.31</td>\n      <td>67.31</td>\n      <td>70.45</td>\n      <td>70.45</td>\n      <td>50.0</td>\n      <td>50.0</td>\n      <td>0.0</td>\n      <td>0.0</td>\n    </tr>\n    <tr>\n      <th>...</th>\n      <td>...</td>\n      <td>...</td>\n      <td>...</td>\n      <td>...</td>\n      <td>...</td>\n      <td>...</td>\n      <td>...</td>\n      <td>...</td>\n      <td>...</td>\n      <td>...</td>\n      <td>...</td>\n      <td>...</td>\n      <td>...</td>\n      <td>...</td>\n      <td>...</td>\n      <td>...</td>\n      <td>...</td>\n      <td>...</td>\n      <td>...</td>\n      <td>...</td>\n      <td>...</td>\n    </tr>\n    <tr>\n      <th>28088</th>\n      <td>Venezuela</td>\n      <td>2020-04-25</td>\n      <td>VEN</td>\n      <td>3.0</td>\n      <td>1.0</td>\n      <td>3.0</td>\n      <td>1.0</td>\n      <td>2.0</td>\n      <td>1.0</td>\n      <td>3.0</td>\n      <td>...</td>\n      <td>85.71</td>\n      <td>85.71</td>\n      <td>67.31</td>\n      <td>67.31</td>\n      <td>70.45</td>\n      <td>70.45</td>\n      <td>50.0</td>\n      <td>50.0</td>\n      <td>20.0</td>\n      <td>0.0</td>\n    </tr>\n    <tr>\n      <th>28252</th>\n      <td>Vietnam</td>\n      <td>2020-04-25</td>\n      <td>VNM</td>\n      <td>3.0</td>\n      <td>0.0</td>\n      <td>2.0</td>\n      <td>1.0</td>\n      <td>2.0</td>\n      <td>1.0</td>\n      <td>3.0</td>\n      <td>...</td>\n      <td>83.33</td>\n      <td>83.33</td>\n      <td>69.23</td>\n      <td>69.23</td>\n      <td>77.27</td>\n      <td>77.27</td>\n      <td>25.0</td>\n      <td>25.0</td>\n      <td>0.0</td>\n      <td>0.0</td>\n    </tr>\n    <tr>\n      <th>28416</th>\n      <td>Yemen</td>\n      <td>2020-04-25</td>\n      <td>YEM</td>\n      <td>3.0</td>\n      <td>1.0</td>\n      <td>1.0</td>\n      <td>0.0</td>\n      <td>2.0</td>\n      <td>1.0</td>\n      <td>0.0</td>\n      <td>...</td>\n      <td>55.95</td>\n      <td>55.95</td>\n      <td>28.21</td>\n      <td>28.21</td>\n      <td>33.33</td>\n      <td>33.33</td>\n      <td>0.0</td>\n      <td>0.0</td>\n      <td>0.0</td>\n      <td>0.0</td>\n    </tr>\n    <tr>\n      <th>28580</th>\n      <td>Zambia</td>\n      <td>2020-04-25</td>\n      <td>ZMB</td>\n      <td>3.0</td>\n      <td>1.0</td>\n      <td>0.0</td>\n      <td>NaN</td>\n      <td>2.0</td>\n      <td>0.0</td>\n      <td>4.0</td>\n      <td>...</td>\n      <td>63.81</td>\n      <td>63.81</td>\n      <td>59.29</td>\n      <td>59.29</td>\n      <td>65.53</td>\n      <td>65.53</td>\n      <td>25.0</td>\n      <td>25.0</td>\n      <td>8.0</td>\n      <td>0.0</td>\n    </tr>\n    <tr>\n      <th>28744</th>\n      <td>Zimbabwe</td>\n      <td>2020-04-25</td>\n      <td>ZWE</td>\n      <td>3.0</td>\n      <td>1.0</td>\n      <td>3.0</td>\n      <td>1.0</td>\n      <td>2.0</td>\n      <td>1.0</td>\n      <td>3.0</td>\n      <td>...</td>\n      <td>95.24</td>\n      <td>95.24</td>\n      <td>71.15</td>\n      <td>71.15</td>\n      <td>79.55</td>\n      <td>79.55</td>\n      <td>25.0</td>\n      <td>25.0</td>\n      <td>0.0</td>\n      <td>1.0</td>\n    </tr>\n  </tbody>\n</table>\n<p>176 rows × 43 columns</p>\n</div>"
     },
     "metadata": {},
     "execution_count": 4
    }
   ],
   "source": [
    "# df = df[df['GovernmentResponseIndex']>0]\n",
    "# df_us = df[df['CountryName'] == 'United States']\n",
    "# df_us['ConfirmedCases'].diff()\n",
    "df_march_25 = latest_csv[latest_csv['Date'] == '2020-04-25']\n",
    "df_march_25"
   ]
  },
  {
   "cell_type": "markdown",
   "metadata": {
    "colab_type": "text",
    "id": "OxTAgKzWlXJk"
   },
   "source": [
    "Choropleth colors\n",
    "\n",
    "Columns with mouse hover text for each country\n"
   ]
  },
  {
   "cell_type": "code",
   "execution_count": 5,
   "metadata": {
    "colab": {
     "base_uri": "https://localhost:8080/",
     "height": 521
    },
    "colab_type": "code",
    "id": "-w9AwqWsjXSM",
    "outputId": "b0fd0076-bcf9-4319-a41f-ce79157d83e1"
   },
   "outputs": [
    {
     "output_type": "stream",
     "name": "stdout",
     "text": "<class 'pandas.core.frame.DataFrame'>\nInt64Index: 176 entries, 115 to 28744\nData columns (total 5 columns):\n #   Column              Non-Null Count  Dtype  \n---  ------              --------------  -----  \n 0   CountryCode         176 non-null    object \n 1   CountryName         176 non-null    object \n 2   Date                176 non-null    object \n 3   NewConfirmedCases   176 non-null    float64\n 4   NewConfirmedDeaths  176 non-null    float64\ndtypes: float64(2), object(3)\nmemory usage: 8.2+ KB\nNone\n"
    }
   ],
   "source": [
    "scl = [[0.0, '#ffffff'],[0.2, '#ff9999'],[0.4, '#ff4d4d'], \n",
    "       [0.6, '#ff1a1a'],[0.8, '#cc0000'],[1.0, '#4d0000']] # reds\n",
    "\n",
    "df_map = df_march_25[['CountryCode','CountryName', 'Date', 'NewConfirmedCases', 'NewConfirmedDeaths']]\n",
    "print(df_map.info())\n",
    "for col in df_map.columns:\n",
    "    df_map[col] = df_map[col].astype(str)\n",
    "\n",
    "df_map['text'] = df_map['CountryName']+' \\nCases: ' + df_map['NewConfirmedCases'] +' \\nDeaths: '+df_map['NewConfirmedDeaths']\n"
   ]
  },
  {
   "cell_type": "code",
   "execution_count": 6,
   "metadata": {
    "colab": {
     "base_uri": "https://localhost:8080/",
     "height": 402
    },
    "colab_type": "code",
    "id": "IMKISsNSnjeF",
    "outputId": "ffd7932c-7189-4171-ebcd-0abff082be5e"
   },
   "outputs": [
    {
     "output_type": "execute_result",
     "data": {
      "text/plain": "      CountryCode  CountryName        Date NewConfirmedCases  \\\n115           AFG  Afghanistan  2020-04-25              70.0   \n279           ALB      Albania  2020-04-25              15.0   \n443           DZA      Algeria  2020-04-25             120.0   \n607           AND      Andorra  2020-04-25               7.0   \n771           AGO       Angola  2020-04-25               0.0   \n...           ...          ...         ...               ...   \n28088         VEN    Venezuela  2020-04-25              20.0   \n28252         VNM      Vietnam  2020-04-25               0.0   \n28416         YEM        Yemen  2020-04-25               0.0   \n28580         ZMB       Zambia  2020-04-25               8.0   \n28744         ZWE     Zimbabwe  2020-04-25               0.0   \n\n      NewConfirmedDeaths                                     text  \n115                  1.0  Afghanistan \\nCases: 70.0 \\nDeaths: 1.0  \n279                  0.0      Albania \\nCases: 15.0 \\nDeaths: 0.0  \n443                  8.0     Algeria \\nCases: 120.0 \\nDeaths: 8.0  \n607                  3.0       Andorra \\nCases: 7.0 \\nDeaths: 3.0  \n771                  0.0        Angola \\nCases: 0.0 \\nDeaths: 0.0  \n...                  ...                                      ...  \n28088                0.0    Venezuela \\nCases: 20.0 \\nDeaths: 0.0  \n28252                0.0       Vietnam \\nCases: 0.0 \\nDeaths: 0.0  \n28416                0.0         Yemen \\nCases: 0.0 \\nDeaths: 0.0  \n28580                0.0        Zambia \\nCases: 8.0 \\nDeaths: 0.0  \n28744                1.0      Zimbabwe \\nCases: 0.0 \\nDeaths: 1.0  \n\n[176 rows x 6 columns]",
      "text/html": "<div>\n<style scoped>\n    .dataframe tbody tr th:only-of-type {\n        vertical-align: middle;\n    }\n\n    .dataframe tbody tr th {\n        vertical-align: top;\n    }\n\n    .dataframe thead th {\n        text-align: right;\n    }\n</style>\n<table border=\"1\" class=\"dataframe\">\n  <thead>\n    <tr style=\"text-align: right;\">\n      <th></th>\n      <th>CountryCode</th>\n      <th>CountryName</th>\n      <th>Date</th>\n      <th>NewConfirmedCases</th>\n      <th>NewConfirmedDeaths</th>\n      <th>text</th>\n    </tr>\n  </thead>\n  <tbody>\n    <tr>\n      <th>115</th>\n      <td>AFG</td>\n      <td>Afghanistan</td>\n      <td>2020-04-25</td>\n      <td>70.0</td>\n      <td>1.0</td>\n      <td>Afghanistan \\nCases: 70.0 \\nDeaths: 1.0</td>\n    </tr>\n    <tr>\n      <th>279</th>\n      <td>ALB</td>\n      <td>Albania</td>\n      <td>2020-04-25</td>\n      <td>15.0</td>\n      <td>0.0</td>\n      <td>Albania \\nCases: 15.0 \\nDeaths: 0.0</td>\n    </tr>\n    <tr>\n      <th>443</th>\n      <td>DZA</td>\n      <td>Algeria</td>\n      <td>2020-04-25</td>\n      <td>120.0</td>\n      <td>8.0</td>\n      <td>Algeria \\nCases: 120.0 \\nDeaths: 8.0</td>\n    </tr>\n    <tr>\n      <th>607</th>\n      <td>AND</td>\n      <td>Andorra</td>\n      <td>2020-04-25</td>\n      <td>7.0</td>\n      <td>3.0</td>\n      <td>Andorra \\nCases: 7.0 \\nDeaths: 3.0</td>\n    </tr>\n    <tr>\n      <th>771</th>\n      <td>AGO</td>\n      <td>Angola</td>\n      <td>2020-04-25</td>\n      <td>0.0</td>\n      <td>0.0</td>\n      <td>Angola \\nCases: 0.0 \\nDeaths: 0.0</td>\n    </tr>\n    <tr>\n      <th>...</th>\n      <td>...</td>\n      <td>...</td>\n      <td>...</td>\n      <td>...</td>\n      <td>...</td>\n      <td>...</td>\n    </tr>\n    <tr>\n      <th>28088</th>\n      <td>VEN</td>\n      <td>Venezuela</td>\n      <td>2020-04-25</td>\n      <td>20.0</td>\n      <td>0.0</td>\n      <td>Venezuela \\nCases: 20.0 \\nDeaths: 0.0</td>\n    </tr>\n    <tr>\n      <th>28252</th>\n      <td>VNM</td>\n      <td>Vietnam</td>\n      <td>2020-04-25</td>\n      <td>0.0</td>\n      <td>0.0</td>\n      <td>Vietnam \\nCases: 0.0 \\nDeaths: 0.0</td>\n    </tr>\n    <tr>\n      <th>28416</th>\n      <td>YEM</td>\n      <td>Yemen</td>\n      <td>2020-04-25</td>\n      <td>0.0</td>\n      <td>0.0</td>\n      <td>Yemen \\nCases: 0.0 \\nDeaths: 0.0</td>\n    </tr>\n    <tr>\n      <th>28580</th>\n      <td>ZMB</td>\n      <td>Zambia</td>\n      <td>2020-04-25</td>\n      <td>8.0</td>\n      <td>0.0</td>\n      <td>Zambia \\nCases: 8.0 \\nDeaths: 0.0</td>\n    </tr>\n    <tr>\n      <th>28744</th>\n      <td>ZWE</td>\n      <td>Zimbabwe</td>\n      <td>2020-04-25</td>\n      <td>0.0</td>\n      <td>1.0</td>\n      <td>Zimbabwe \\nCases: 0.0 \\nDeaths: 1.0</td>\n    </tr>\n  </tbody>\n</table>\n<p>176 rows × 6 columns</p>\n</div>"
     },
     "metadata": {},
     "execution_count": 6
    }
   ],
   "source": [
    "df_map"
   ]
  },
  {
   "cell_type": "markdown",
   "metadata": {
    "colab_type": "text",
    "id": "nEYyc0ZQsD1c"
   },
   "source": [
    "Creating the data object for the plotting."
   ]
  },
  {
   "cell_type": "code",
   "execution_count": 7,
   "metadata": {
    "colab": {
     "base_uri": "https://localhost:8080/",
     "height": 34
    },
    "colab_type": "code",
    "id": "BcUdnNiOv2kP",
    "outputId": "d475e270-b12c-4d60-8087-c54df2812ad7"
   },
   "outputs": [
    {
     "output_type": "display_data",
     "data": {
      "application/vnd.plotly.v1+json": {
       "config": {
        "plotlyServerURL": "https://plot.ly"
       },
       "data": [
        {
         "autocolorscale": false,
         "colorbar": {
          "tickprefix": "-",
          "title": {
           "text": "Covid Cases"
          }
         },
         "colorscale": [
          [
           0,
           "rgb(0,0,255)"
          ],
          [
           0.1,
           "rgb(51,153,255)"
          ],
          [
           0.2,
           "rgb(102,204,255)"
          ],
          [
           0.3,
           "rgb(153,204,255)"
          ],
          [
           0.4,
           "rgb(204,204,255)"
          ],
          [
           0.5,
           "rgb(255,255,255)"
          ],
          [
           0.6,
           "rgb(255,204,255)"
          ],
          [
           0.7,
           "rgb(255,153,255)"
          ],
          [
           0.8,
           "rgb(255,102,204)"
          ],
          [
           0.9,
           "rgb(255,102,102)"
          ],
          [
           1,
           "rgb(255,0,0)"
          ]
         ],
         "locations": [
          "AFG",
          "ALB",
          "DZA",
          "AND",
          "AGO",
          "ARG",
          "ABW",
          "AUS",
          "AUT",
          "AZE",
          "BHR",
          "BGD",
          "BRB",
          "BLR",
          "BEL",
          "BLZ",
          "BEN",
          "BMU",
          "BTN",
          "BOL",
          "BIH",
          "BWA",
          "BRA",
          "BRN",
          "BGR",
          "BFA",
          "BDI",
          "KHM",
          "CMR",
          "CAN",
          "CPV",
          "CAF",
          "TCD",
          "CHL",
          "CHN",
          "COL",
          "COG",
          "CRI",
          "CIV",
          "HRV",
          "CUB",
          "CYP",
          "CZE",
          "COD",
          "DNK",
          "DJI",
          "DMA",
          "DOM",
          "ECU",
          "EGY",
          "SLV",
          "ERI",
          "EST",
          "SWZ",
          "ETH",
          "FJI",
          "FIN",
          "FRA",
          "GAB",
          "GMB",
          "GEO",
          "DEU",
          "GHA",
          "GIB",
          "GRC",
          "GRL",
          "GUM",
          "GTM",
          "GIN",
          "GUY",
          "HTI",
          "HND",
          "HKG",
          "HUN",
          "ISL",
          "IND",
          "IDN",
          "IRN",
          "IRQ",
          "IRL",
          "ISR",
          "ITA",
          "JAM",
          "JPN",
          "JOR",
          "KAZ",
          "KEN",
          "RKS",
          "KWT",
          "KGZ",
          "LAO",
          "LBN",
          "LSO",
          "LBR",
          "LBY",
          "LTU",
          "LUX",
          "MAC",
          "MDG",
          "MWI",
          "MYS",
          "MLI",
          "MRT",
          "MUS",
          "MEX",
          "MDA",
          "MNG",
          "MAR",
          "MOZ",
          "MMR",
          "NAM",
          "NPL",
          "NLD",
          "NZL",
          "NIC",
          "NER",
          "NGA",
          "NOR",
          "OMN",
          "PAK",
          "PSE",
          "PAN",
          "PNG",
          "PRY",
          "PER",
          "PHL",
          "POL",
          "PRT",
          "PRI",
          "QAT",
          "ROU",
          "RUS",
          "RWA",
          "SMR",
          "SAU",
          "SEN",
          "SRB",
          "SYC",
          "SLE",
          "SGP",
          "SVK",
          "SVN",
          "SLB",
          "SOM",
          "ZAF",
          "KOR",
          "SSD",
          "ESP",
          "LKA",
          "SDN",
          "SUR",
          "SWE",
          "CHE",
          "SYR",
          "TWN",
          "TJK",
          "TZA",
          "THA",
          "TLS",
          "TTO",
          "TUN",
          "TUR",
          "TKM",
          "UGA",
          "UKR",
          "ARE",
          "GBR",
          "USA",
          "URY",
          "UZB",
          "VUT",
          "VEN",
          "VNM",
          "YEM",
          "ZMB",
          "ZWE"
         ],
         "marker": {
          "line": {
           "color": "darkgray",
           "width": 0.5
          }
         },
         "reversescale": false,
         "text": [
          "Afghanistan \nCases: 70.0 \nDeaths: 1.0",
          "Albania \nCases: 15.0 \nDeaths: 0.0",
          "Algeria \nCases: 120.0 \nDeaths: 8.0",
          "Andorra \nCases: 7.0 \nDeaths: 3.0",
          "Angola \nCases: 0.0 \nDeaths: 0.0",
          "Argentina \nCases: 0.0 \nDeaths: 2.0",
          "Aruba \nCases: 0.0 \nDeaths: 0.0",
          "Australia \nCases: 20.0 \nDeaths: 4.0",
          "Austria \nCases: 83.0 \nDeaths: 5.0",
          "Azerbaijan \nCases: 44.0 \nDeaths: 1.0",
          "Bahrain \nCases: 301.0 \nDeaths: 0.0",
          "Bangladesh \nCases: 503.0 \nDeaths: 4.0",
          "Barbados \nCases: 0.0 \nDeaths: 0.0",
          "Belarus \nCases: 751.0 \nDeaths: 3.0",
          "Belgium \nCases: 1496.0 \nDeaths: 189.0",
          "Belize \nCases: 0.0 \nDeaths: 0.0",
          "Benin \nCases: 0.0 \nDeaths: 0.0",
          "Bermuda \nCases: 0.0 \nDeaths: 0.0",
          "Bhutan \nCases: 0.0 \nDeaths: 0.0",
          "Bolivia \nCases: 104.0 \nDeaths: 1.0",
          "Bosnia and Herzegovina \nCases: 7.0 \nDeaths: 1.0",
          "Botswana \nCases: 0.0 \nDeaths: 0.0",
          "Brazil \nCases: 3503.0 \nDeaths: 357.0",
          "Brunei \nCases: 0.0 \nDeaths: 0.0",
          "Bulgaria \nCases: 91.0 \nDeaths: 2.0",
          "Burkina Faso \nCases: 10.0 \nDeaths: 0.0",
          "Burundi \nCases: 1.0 \nDeaths: 0.0",
          "Cambodia \nCases: 0.0 \nDeaths: 0.0",
          "Cameroon \nCases: 2.0 \nDeaths: 0.0",
          "Canada \nCases: 1778.0 \nDeaths: 156.0",
          "Cape Verde \nCases: 6.0 \nDeaths: 0.0",
          "Central African Republic \nCases: 2.0 \nDeaths: 0.0",
          "Chad \nCases: 0.0 \nDeaths: 0.0",
          "Chile \nCases: 494.0 \nDeaths: 6.0",
          "China \nCases: 15.0 \nDeaths: 0.0",
          "Colombia \nCases: 320.0 \nDeaths: 10.0",
          "Congo \nCases: 14.0 \nDeaths: 0.0",
          "Costa Rica \nCases: 0.0 \nDeaths: 0.0",
          "Cote d'Ivoire \nCases: 73.0 \nDeaths: 0.0",
          "Croatia \nCases: 28.0 \nDeaths: 1.0",
          "Cuba \nCases: 50.0 \nDeaths: 6.0",
          "Cyprus \nCases: 9.0 \nDeaths: 0.0",
          "Czech Republic \nCases: 85.0 \nDeaths: 2.0",
          "Democratic Republic of Congo \nCases: 22.0 \nDeaths: 3.0",
          "Denmark \nCases: 137.0 \nDeaths: 9.0",
          "Djibouti \nCases: 13.0 \nDeaths: 0.0",
          "Dominica \nCases: 0.0 \nDeaths: 0.0",
          "Dominican Republic \nCases: 206.0 \nDeaths: 2.0",
          "Ecuador \nCases: 0.0 \nDeaths: 16.0",
          "Egypt \nCases: 433.0 \nDeaths: 18.0",
          "El Salvador \nCases: 11.0 \nDeaths: 0.0",
          "Eritrea \nCases: 0.0 \nDeaths: 0.0",
          "Estonia \nCases: 13.0 \nDeaths: 1.0",
          "Eswatini \nCases: 8.0 \nDeaths: 0.0",
          "Ethiopia \nCases: 1.0 \nDeaths: 0.0",
          "Fiji \nCases: 0.0 \nDeaths: 0.0",
          "Finland \nCases: 111.0 \nDeaths: 5.0",
          "France \nCases: 1773.0 \nDeaths: 389.0",
          "Gabon \nCases: 5.0 \nDeaths: 1.0",
          "Gambia \nCases: 0.0 \nDeaths: 0.0",
          "Georgia \nCases: 19.0 \nDeaths: 0.0",
          "Germany \nCases: 2055.0 \nDeaths: 179.0",
          "Ghana \nCases: 125.0 \nDeaths: 1.0",
          "Gibraltar \nCases: 0.0 \nDeaths: 0.0",
          "Greece \nCases: 27.0 \nDeaths: 5.0",
          "Greenland \nCases: 0.0 \nDeaths: 0.0",
          "Guam \nCases: 1.0 \nDeaths: 0.0",
          "Guatemala \nCases: 46.0 \nDeaths: 0.0",
          "Guinea \nCases: 92.0 \nDeaths: 0.0",
          "Guyana \nCases: 3.0 \nDeaths: 1.0",
          "Haiti \nCases: 0.0 \nDeaths: 0.0",
          "Honduras \nCases: 72.0 \nDeaths: 0.0",
          "Hong Kong \nCases: 2.0 \nDeaths: 0.0",
          "Hungary \nCases: 60.0 \nDeaths: 12.0",
          "Iceland \nCases: 0.0 \nDeaths: 0.0",
          "India \nCases: 1429.0 \nDeaths: 57.0",
          "Indonesia \nCases: 436.0 \nDeaths: 42.0",
          "Iran \nCases: 1168.0 \nDeaths: 93.0",
          "Iraq \nCases: 31.0 \nDeaths: 3.0",
          "Ireland \nCases: 577.0 \nDeaths: 35.0",
          "Israel \nCases: 176.0 \nDeaths: 1.0",
          "Italy \nCases: 3021.0 \nDeaths: 420.0",
          "Jamaica \nCases: 36.0 \nDeaths: 1.0",
          "Japan \nCases: 652.0 \nDeaths: 17.0",
          "Jordan \nCases: 4.0 \nDeaths: 0.0",
          "Kazakhstan \nCases: 148.0 \nDeaths: 3.0",
          "Kenya \nCases: 16.0 \nDeaths: 0.0",
          "Kosovo \nCases: 28.0 \nDeaths: 1.0",
          "Kuwait \nCases: 215.0 \nDeaths: 1.0",
          "Kyrgyz Republic \nCases: 9.0 \nDeaths: 0.0",
          "Laos \nCases: 0.0 \nDeaths: 0.0",
          "Lebanon \nCases: 8.0 \nDeaths: 0.0",
          "Lesotho \nCases: 0.0 \nDeaths: 0.0",
          "Liberia \nCases: 16.0 \nDeaths: 0.0",
          "Libya \nCases: 1.0 \nDeaths: 0.0",
          "Lithuania \nCases: 0.0 \nDeaths: 0.0",
          "Luxembourg \nCases: 30.0 \nDeaths: 2.0",
          "Macao \nCases: 0.0 \nDeaths: 0.0",
          "Madagascar \nCases: 1.0 \nDeaths: 0.0",
          "Malawi \nCases: 0.0 \nDeaths: 0.0",
          "Malaysia \nCases: 88.0 \nDeaths: 1.0",
          "Mali \nCases: 16.0 \nDeaths: 0.0",
          "Mauritania \nCases: 0.0 \nDeaths: 0.0",
          "Mauritius \nCases: 0.0 \nDeaths: 0.0",
          "Mexico \nCases: 1239.0 \nDeaths: 152.0",
          "Moldova \nCases: 184.0 \nDeaths: 7.0",
          "Mongolia \nCases: 0.0 \nDeaths: 0.0",
          "Morocco \nCases: 190.0 \nDeaths: 3.0",
          "Mozambique \nCases: 19.0 \nDeaths: 0.0",
          "Myanmar \nCases: 12.0 \nDeaths: 0.0",
          "Namibia \nCases: 0.0 \nDeaths: 0.0",
          "Nepal \nCases: 1.0 \nDeaths: 0.0",
          "Netherlands \nCases: 806.0 \nDeaths: 112.0",
          "New Zealand \nCases: 3.0 \nDeaths: 1.0",
          "Nicaragua \nCases: 1.0 \nDeaths: 1.0",
          "Niger \nCases: 10.0 \nDeaths: 0.0",
          "Nigeria \nCases: 114.0 \nDeaths: 1.0",
          "Norway \nCases: 63.0 \nDeaths: 11.0",
          "Oman \nCases: 74.0 \nDeaths: 1.0",
          "Pakistan \nCases: 785.0 \nDeaths: 16.0",
          "Palestine \nCases: 4.0 \nDeaths: 0.0",
          "Panama \nCases: 172.0 \nDeaths: 8.0",
          "Papua New Guinea \nCases: 0.0 \nDeaths: 0.0",
          "Paraguay \nCases: 3.0 \nDeaths: 0.0",
          "Peru \nCases: 734.0 \nDeaths: 62.0",
          "Philippines \nCases: 211.0 \nDeaths: 15.0",
          "Poland \nCases: 381.0 \nDeaths: 40.0",
          "Portugal \nCases: 918.0 \nDeaths: 60.0",
          "Puerto Rico \nCases: 24.0 \nDeaths: 8.0",
          "Qatar \nCases: 761.0 \nDeaths: 0.0",
          "Romania \nCases: 321.0 \nDeaths: 25.0",
          "Russia \nCases: 5849.0 \nDeaths: 60.0",
          "Rwanda \nCases: 22.0 \nDeaths: 0.0",
          "San Marino \nCases: 12.0 \nDeaths: 0.0",
          "Saudi Arabia \nCases: 1172.0 \nDeaths: 6.0",
          "Senegal \nCases: 66.0 \nDeaths: 1.0",
          "Serbia \nCases: 207.0 \nDeaths: 5.0",
          "Seychelles \nCases: 0.0 \nDeaths: 0.0",
          "Sierra Leone \nCases: 18.0 \nDeaths: 2.0",
          "Singapore \nCases: 897.0 \nDeaths: 0.0",
          "Slovak Republic \nCases: 35.0 \nDeaths: 2.0",
          "Slovenia \nCases: 7.0 \nDeaths: 1.0",
          "Solomon Islands \nCases: 0.0 \nDeaths: 0.0",
          "Somalia \nCases: 0.0 \nDeaths: 2.0",
          "South Africa \nCases: 267.0 \nDeaths: 4.0",
          "South Korea \nCases: 10.0 \nDeaths: 0.0",
          "South Sudan \nCases: 1.0 \nDeaths: 0.0",
          "Spain \nCases: 2506.0 \nDeaths: 378.0",
          "Sri Lanka \nCases: 52.0 \nDeaths: 0.0",
          "Sudan \nCases: 12.0 \nDeaths: 3.0",
          "Suriname \nCases: 0.0 \nDeaths: 0.0",
          "Sweden \nCases: 812.0 \nDeaths: 131.0",
          "Switzerland \nCases: 181.0 \nDeaths: 41.0",
          "Syria \nCases: 0.0 \nDeaths: 0.0",
          "Taiwan \nCases: 1.0 \nDeaths: 0.0",
          "Tajikistan \nCases: 0.0 \nDeaths: 0.0",
          "Tanzania \nCases: 15.0 \nDeaths: 0.0",
          "Thailand \nCases: 15.0 \nDeaths: 0.0",
          "Timor-Leste \nCases: 1.0 \nDeaths: 0.0",
          "Trinidad and Tobago \nCases: 0.0 \nDeaths: 0.0",
          "Tunisia \nCases: 4.0 \nDeaths: 0.0",
          "Turkey \nCases: 3122.0 \nDeaths: 109.0",
          "Turkmenistan \nCases: 0.0 \nDeaths: 0.0",
          "Uganda \nCases: 1.0 \nDeaths: 0.0",
          "Ukraine \nCases: 478.0 \nDeaths: 8.0",
          "United Arab Emirates \nCases: 525.0 \nDeaths: 8.0",
          "United Kingdom \nCases: 5386.0 \nDeaths: 1005.0",
          "United States \nCases: 21352.0 \nDeaths: 1054.0",
          "Uruguay \nCases: 6.0 \nDeaths: 0.0",
          "Uzbekistan \nCases: 58.0 \nDeaths: 1.0",
          "Vanuatu \nCases: 0.0 \nDeaths: 0.0",
          "Venezuela \nCases: 20.0 \nDeaths: 0.0",
          "Vietnam \nCases: 0.0 \nDeaths: 0.0",
          "Yemen \nCases: 0.0 \nDeaths: 0.0",
          "Zambia \nCases: 8.0 \nDeaths: 0.0",
          "Zimbabwe \nCases: 0.0 \nDeaths: 1.0"
         ],
         "type": "choropleth",
         "z": [
          70,
          15,
          120,
          7,
          0,
          0,
          0,
          20,
          83,
          44,
          301,
          503,
          0,
          751,
          1496,
          0,
          0,
          0,
          0,
          104,
          7,
          0,
          3503,
          0,
          91,
          10,
          1,
          0,
          2,
          1778,
          6,
          2,
          0,
          494,
          15,
          320,
          14,
          0,
          73,
          28,
          50,
          9,
          85,
          22,
          137,
          13,
          0,
          206,
          0,
          433,
          11,
          0,
          13,
          8,
          1,
          0,
          111,
          1773,
          5,
          0,
          19,
          2055,
          125,
          0,
          27,
          0,
          1,
          46,
          92,
          3,
          0,
          72,
          2,
          60,
          0,
          1429,
          436,
          1168,
          31,
          577,
          176,
          3021,
          36,
          652,
          4,
          148,
          16,
          28,
          215,
          9,
          0,
          8,
          0,
          16,
          1,
          0,
          30,
          0,
          1,
          0,
          88,
          16,
          0,
          0,
          1239,
          184,
          0,
          190,
          19,
          12,
          0,
          1,
          806,
          3,
          1,
          10,
          114,
          63,
          74,
          785,
          4,
          172,
          0,
          3,
          734,
          211,
          381,
          918,
          24,
          761,
          321,
          5849,
          22,
          12,
          1172,
          66,
          207,
          0,
          18,
          897,
          35,
          7,
          0,
          0,
          267,
          10,
          1,
          2506,
          52,
          12,
          0,
          812,
          181,
          0,
          1,
          0,
          15,
          15,
          1,
          0,
          4,
          3122,
          0,
          1,
          478,
          525,
          5386,
          21352,
          6,
          58,
          0,
          20,
          0,
          0,
          8,
          0
         ]
        }
       ],
       "layout": {
        "annotations": [
         {
          "showarrow": false,
          "text": "Source: Oxford Data",
          "x": 0.55,
          "xref": "paper",
          "y": 0.1,
          "yref": "paper"
         }
        ],
        "geo": {
         "projection": {
          "type": "equirectangular"
         },
         "showcoastlines": false,
         "showframe": false
        },
        "template": {
         "data": {
          "bar": [
           {
            "error_x": {
             "color": "#2a3f5f"
            },
            "error_y": {
             "color": "#2a3f5f"
            },
            "marker": {
             "line": {
              "color": "#E5ECF6",
              "width": 0.5
             }
            },
            "type": "bar"
           }
          ],
          "barpolar": [
           {
            "marker": {
             "line": {
              "color": "#E5ECF6",
              "width": 0.5
             }
            },
            "type": "barpolar"
           }
          ],
          "carpet": [
           {
            "aaxis": {
             "endlinecolor": "#2a3f5f",
             "gridcolor": "white",
             "linecolor": "white",
             "minorgridcolor": "white",
             "startlinecolor": "#2a3f5f"
            },
            "baxis": {
             "endlinecolor": "#2a3f5f",
             "gridcolor": "white",
             "linecolor": "white",
             "minorgridcolor": "white",
             "startlinecolor": "#2a3f5f"
            },
            "type": "carpet"
           }
          ],
          "choropleth": [
           {
            "colorbar": {
             "outlinewidth": 0,
             "ticks": ""
            },
            "type": "choropleth"
           }
          ],
          "contour": [
           {
            "colorbar": {
             "outlinewidth": 0,
             "ticks": ""
            },
            "colorscale": [
             [
              0,
              "#0d0887"
             ],
             [
              0.1111111111111111,
              "#46039f"
             ],
             [
              0.2222222222222222,
              "#7201a8"
             ],
             [
              0.3333333333333333,
              "#9c179e"
             ],
             [
              0.4444444444444444,
              "#bd3786"
             ],
             [
              0.5555555555555556,
              "#d8576b"
             ],
             [
              0.6666666666666666,
              "#ed7953"
             ],
             [
              0.7777777777777778,
              "#fb9f3a"
             ],
             [
              0.8888888888888888,
              "#fdca26"
             ],
             [
              1,
              "#f0f921"
             ]
            ],
            "type": "contour"
           }
          ],
          "contourcarpet": [
           {
            "colorbar": {
             "outlinewidth": 0,
             "ticks": ""
            },
            "type": "contourcarpet"
           }
          ],
          "heatmap": [
           {
            "colorbar": {
             "outlinewidth": 0,
             "ticks": ""
            },
            "colorscale": [
             [
              0,
              "#0d0887"
             ],
             [
              0.1111111111111111,
              "#46039f"
             ],
             [
              0.2222222222222222,
              "#7201a8"
             ],
             [
              0.3333333333333333,
              "#9c179e"
             ],
             [
              0.4444444444444444,
              "#bd3786"
             ],
             [
              0.5555555555555556,
              "#d8576b"
             ],
             [
              0.6666666666666666,
              "#ed7953"
             ],
             [
              0.7777777777777778,
              "#fb9f3a"
             ],
             [
              0.8888888888888888,
              "#fdca26"
             ],
             [
              1,
              "#f0f921"
             ]
            ],
            "type": "heatmap"
           }
          ],
          "heatmapgl": [
           {
            "colorbar": {
             "outlinewidth": 0,
             "ticks": ""
            },
            "colorscale": [
             [
              0,
              "#0d0887"
             ],
             [
              0.1111111111111111,
              "#46039f"
             ],
             [
              0.2222222222222222,
              "#7201a8"
             ],
             [
              0.3333333333333333,
              "#9c179e"
             ],
             [
              0.4444444444444444,
              "#bd3786"
             ],
             [
              0.5555555555555556,
              "#d8576b"
             ],
             [
              0.6666666666666666,
              "#ed7953"
             ],
             [
              0.7777777777777778,
              "#fb9f3a"
             ],
             [
              0.8888888888888888,
              "#fdca26"
             ],
             [
              1,
              "#f0f921"
             ]
            ],
            "type": "heatmapgl"
           }
          ],
          "histogram": [
           {
            "marker": {
             "colorbar": {
              "outlinewidth": 0,
              "ticks": ""
             }
            },
            "type": "histogram"
           }
          ],
          "histogram2d": [
           {
            "colorbar": {
             "outlinewidth": 0,
             "ticks": ""
            },
            "colorscale": [
             [
              0,
              "#0d0887"
             ],
             [
              0.1111111111111111,
              "#46039f"
             ],
             [
              0.2222222222222222,
              "#7201a8"
             ],
             [
              0.3333333333333333,
              "#9c179e"
             ],
             [
              0.4444444444444444,
              "#bd3786"
             ],
             [
              0.5555555555555556,
              "#d8576b"
             ],
             [
              0.6666666666666666,
              "#ed7953"
             ],
             [
              0.7777777777777778,
              "#fb9f3a"
             ],
             [
              0.8888888888888888,
              "#fdca26"
             ],
             [
              1,
              "#f0f921"
             ]
            ],
            "type": "histogram2d"
           }
          ],
          "histogram2dcontour": [
           {
            "colorbar": {
             "outlinewidth": 0,
             "ticks": ""
            },
            "colorscale": [
             [
              0,
              "#0d0887"
             ],
             [
              0.1111111111111111,
              "#46039f"
             ],
             [
              0.2222222222222222,
              "#7201a8"
             ],
             [
              0.3333333333333333,
              "#9c179e"
             ],
             [
              0.4444444444444444,
              "#bd3786"
             ],
             [
              0.5555555555555556,
              "#d8576b"
             ],
             [
              0.6666666666666666,
              "#ed7953"
             ],
             [
              0.7777777777777778,
              "#fb9f3a"
             ],
             [
              0.8888888888888888,
              "#fdca26"
             ],
             [
              1,
              "#f0f921"
             ]
            ],
            "type": "histogram2dcontour"
           }
          ],
          "mesh3d": [
           {
            "colorbar": {
             "outlinewidth": 0,
             "ticks": ""
            },
            "type": "mesh3d"
           }
          ],
          "parcoords": [
           {
            "line": {
             "colorbar": {
              "outlinewidth": 0,
              "ticks": ""
             }
            },
            "type": "parcoords"
           }
          ],
          "pie": [
           {
            "automargin": true,
            "type": "pie"
           }
          ],
          "scatter": [
           {
            "marker": {
             "colorbar": {
              "outlinewidth": 0,
              "ticks": ""
             }
            },
            "type": "scatter"
           }
          ],
          "scatter3d": [
           {
            "line": {
             "colorbar": {
              "outlinewidth": 0,
              "ticks": ""
             }
            },
            "marker": {
             "colorbar": {
              "outlinewidth": 0,
              "ticks": ""
             }
            },
            "type": "scatter3d"
           }
          ],
          "scattercarpet": [
           {
            "marker": {
             "colorbar": {
              "outlinewidth": 0,
              "ticks": ""
             }
            },
            "type": "scattercarpet"
           }
          ],
          "scattergeo": [
           {
            "marker": {
             "colorbar": {
              "outlinewidth": 0,
              "ticks": ""
             }
            },
            "type": "scattergeo"
           }
          ],
          "scattergl": [
           {
            "marker": {
             "colorbar": {
              "outlinewidth": 0,
              "ticks": ""
             }
            },
            "type": "scattergl"
           }
          ],
          "scattermapbox": [
           {
            "marker": {
             "colorbar": {
              "outlinewidth": 0,
              "ticks": ""
             }
            },
            "type": "scattermapbox"
           }
          ],
          "scatterpolar": [
           {
            "marker": {
             "colorbar": {
              "outlinewidth": 0,
              "ticks": ""
             }
            },
            "type": "scatterpolar"
           }
          ],
          "scatterpolargl": [
           {
            "marker": {
             "colorbar": {
              "outlinewidth": 0,
              "ticks": ""
             }
            },
            "type": "scatterpolargl"
           }
          ],
          "scatterternary": [
           {
            "marker": {
             "colorbar": {
              "outlinewidth": 0,
              "ticks": ""
             }
            },
            "type": "scatterternary"
           }
          ],
          "surface": [
           {
            "colorbar": {
             "outlinewidth": 0,
             "ticks": ""
            },
            "colorscale": [
             [
              0,
              "#0d0887"
             ],
             [
              0.1111111111111111,
              "#46039f"
             ],
             [
              0.2222222222222222,
              "#7201a8"
             ],
             [
              0.3333333333333333,
              "#9c179e"
             ],
             [
              0.4444444444444444,
              "#bd3786"
             ],
             [
              0.5555555555555556,
              "#d8576b"
             ],
             [
              0.6666666666666666,
              "#ed7953"
             ],
             [
              0.7777777777777778,
              "#fb9f3a"
             ],
             [
              0.8888888888888888,
              "#fdca26"
             ],
             [
              1,
              "#f0f921"
             ]
            ],
            "type": "surface"
           }
          ],
          "table": [
           {
            "cells": {
             "fill": {
              "color": "#EBF0F8"
             },
             "line": {
              "color": "white"
             }
            },
            "header": {
             "fill": {
              "color": "#C8D4E3"
             },
             "line": {
              "color": "white"
             }
            },
            "type": "table"
           }
          ]
         },
         "layout": {
          "annotationdefaults": {
           "arrowcolor": "#2a3f5f",
           "arrowhead": 0,
           "arrowwidth": 1
          },
          "coloraxis": {
           "colorbar": {
            "outlinewidth": 0,
            "ticks": ""
           }
          },
          "colorscale": {
           "diverging": [
            [
             0,
             "#8e0152"
            ],
            [
             0.1,
             "#c51b7d"
            ],
            [
             0.2,
             "#de77ae"
            ],
            [
             0.3,
             "#f1b6da"
            ],
            [
             0.4,
             "#fde0ef"
            ],
            [
             0.5,
             "#f7f7f7"
            ],
            [
             0.6,
             "#e6f5d0"
            ],
            [
             0.7,
             "#b8e186"
            ],
            [
             0.8,
             "#7fbc41"
            ],
            [
             0.9,
             "#4d9221"
            ],
            [
             1,
             "#276419"
            ]
           ],
           "sequential": [
            [
             0,
             "#0d0887"
            ],
            [
             0.1111111111111111,
             "#46039f"
            ],
            [
             0.2222222222222222,
             "#7201a8"
            ],
            [
             0.3333333333333333,
             "#9c179e"
            ],
            [
             0.4444444444444444,
             "#bd3786"
            ],
            [
             0.5555555555555556,
             "#d8576b"
            ],
            [
             0.6666666666666666,
             "#ed7953"
            ],
            [
             0.7777777777777778,
             "#fb9f3a"
            ],
            [
             0.8888888888888888,
             "#fdca26"
            ],
            [
             1,
             "#f0f921"
            ]
           ],
           "sequentialminus": [
            [
             0,
             "#0d0887"
            ],
            [
             0.1111111111111111,
             "#46039f"
            ],
            [
             0.2222222222222222,
             "#7201a8"
            ],
            [
             0.3333333333333333,
             "#9c179e"
            ],
            [
             0.4444444444444444,
             "#bd3786"
            ],
            [
             0.5555555555555556,
             "#d8576b"
            ],
            [
             0.6666666666666666,
             "#ed7953"
            ],
            [
             0.7777777777777778,
             "#fb9f3a"
            ],
            [
             0.8888888888888888,
             "#fdca26"
            ],
            [
             1,
             "#f0f921"
            ]
           ]
          },
          "colorway": [
           "#636efa",
           "#EF553B",
           "#00cc96",
           "#ab63fa",
           "#FFA15A",
           "#19d3f3",
           "#FF6692",
           "#B6E880",
           "#FF97FF",
           "#FECB52"
          ],
          "font": {
           "color": "#2a3f5f"
          },
          "geo": {
           "bgcolor": "white",
           "lakecolor": "white",
           "landcolor": "#E5ECF6",
           "showlakes": true,
           "showland": true,
           "subunitcolor": "white"
          },
          "hoverlabel": {
           "align": "left"
          },
          "hovermode": "closest",
          "mapbox": {
           "style": "light"
          },
          "paper_bgcolor": "white",
          "plot_bgcolor": "#E5ECF6",
          "polar": {
           "angularaxis": {
            "gridcolor": "white",
            "linecolor": "white",
            "ticks": ""
           },
           "bgcolor": "#E5ECF6",
           "radialaxis": {
            "gridcolor": "white",
            "linecolor": "white",
            "ticks": ""
           }
          },
          "scene": {
           "xaxis": {
            "backgroundcolor": "#E5ECF6",
            "gridcolor": "white",
            "gridwidth": 2,
            "linecolor": "white",
            "showbackground": true,
            "ticks": "",
            "zerolinecolor": "white"
           },
           "yaxis": {
            "backgroundcolor": "#E5ECF6",
            "gridcolor": "white",
            "gridwidth": 2,
            "linecolor": "white",
            "showbackground": true,
            "ticks": "",
            "zerolinecolor": "white"
           },
           "zaxis": {
            "backgroundcolor": "#E5ECF6",
            "gridcolor": "white",
            "gridwidth": 2,
            "linecolor": "white",
            "showbackground": true,
            "ticks": "",
            "zerolinecolor": "white"
           }
          },
          "shapedefaults": {
           "line": {
            "color": "#2a3f5f"
           }
          },
          "ternary": {
           "aaxis": {
            "gridcolor": "white",
            "linecolor": "white",
            "ticks": ""
           },
           "baxis": {
            "gridcolor": "white",
            "linecolor": "white",
            "ticks": ""
           },
           "bgcolor": "#E5ECF6",
           "caxis": {
            "gridcolor": "white",
            "linecolor": "white",
            "ticks": ""
           }
          },
          "title": {
           "x": 0.05
          },
          "xaxis": {
           "automargin": true,
           "gridcolor": "white",
           "linecolor": "white",
           "ticks": "",
           "title": {
            "standoff": 15
           },
           "zerolinecolor": "white",
           "zerolinewidth": 2
          },
          "yaxis": {
           "automargin": true,
           "gridcolor": "white",
           "linecolor": "white",
           "ticks": "",
           "title": {
            "standoff": 15
           },
           "zerolinecolor": "white",
           "zerolinewidth": 2
          }
         }
        },
        "title": {
         "text": "COVID - March -25th"
        }
       }
      },
      "text/html": "<div>\n        \n        \n            <div id=\"0124fa3b-48f3-4359-ac37-0d9d40c980f8\" class=\"plotly-graph-div\" style=\"height:525px; width:100%;\"></div>\n            <script type=\"text/javascript\">\n                require([\"plotly\"], function(Plotly) {\n                    window.PLOTLYENV=window.PLOTLYENV || {};\n                    \n                if (document.getElementById(\"0124fa3b-48f3-4359-ac37-0d9d40c980f8\")) {\n                    Plotly.newPlot(\n                        '0124fa3b-48f3-4359-ac37-0d9d40c980f8',\n                        [{\"autocolorscale\": false, \"colorbar\": {\"tickprefix\": \"-\", \"title\": {\"text\": \"Covid Cases\"}}, \"colorscale\": [[0.0, \"rgb(0,0,255)\"], [0.1, \"rgb(51,153,255)\"], [0.2, \"rgb(102,204,255)\"], [0.3, \"rgb(153,204,255)\"], [0.4, \"rgb(204,204,255)\"], [0.5, \"rgb(255,255,255)\"], [0.6, \"rgb(255,204,255)\"], [0.7, \"rgb(255,153,255)\"], [0.8, \"rgb(255,102,204)\"], [0.9, \"rgb(255,102,102)\"], [1.0, \"rgb(255,0,0)\"]], \"locations\": [\"AFG\", \"ALB\", \"DZA\", \"AND\", \"AGO\", \"ARG\", \"ABW\", \"AUS\", \"AUT\", \"AZE\", \"BHR\", \"BGD\", \"BRB\", \"BLR\", \"BEL\", \"BLZ\", \"BEN\", \"BMU\", \"BTN\", \"BOL\", \"BIH\", \"BWA\", \"BRA\", \"BRN\", \"BGR\", \"BFA\", \"BDI\", \"KHM\", \"CMR\", \"CAN\", \"CPV\", \"CAF\", \"TCD\", \"CHL\", \"CHN\", \"COL\", \"COG\", \"CRI\", \"CIV\", \"HRV\", \"CUB\", \"CYP\", \"CZE\", \"COD\", \"DNK\", \"DJI\", \"DMA\", \"DOM\", \"ECU\", \"EGY\", \"SLV\", \"ERI\", \"EST\", \"SWZ\", \"ETH\", \"FJI\", \"FIN\", \"FRA\", \"GAB\", \"GMB\", \"GEO\", \"DEU\", \"GHA\", \"GIB\", \"GRC\", \"GRL\", \"GUM\", \"GTM\", \"GIN\", \"GUY\", \"HTI\", \"HND\", \"HKG\", \"HUN\", \"ISL\", \"IND\", \"IDN\", \"IRN\", \"IRQ\", \"IRL\", \"ISR\", \"ITA\", \"JAM\", \"JPN\", \"JOR\", \"KAZ\", \"KEN\", \"RKS\", \"KWT\", \"KGZ\", \"LAO\", \"LBN\", \"LSO\", \"LBR\", \"LBY\", \"LTU\", \"LUX\", \"MAC\", \"MDG\", \"MWI\", \"MYS\", \"MLI\", \"MRT\", \"MUS\", \"MEX\", \"MDA\", \"MNG\", \"MAR\", \"MOZ\", \"MMR\", \"NAM\", \"NPL\", \"NLD\", \"NZL\", \"NIC\", \"NER\", \"NGA\", \"NOR\", \"OMN\", \"PAK\", \"PSE\", \"PAN\", \"PNG\", \"PRY\", \"PER\", \"PHL\", \"POL\", \"PRT\", \"PRI\", \"QAT\", \"ROU\", \"RUS\", \"RWA\", \"SMR\", \"SAU\", \"SEN\", \"SRB\", \"SYC\", \"SLE\", \"SGP\", \"SVK\", \"SVN\", \"SLB\", \"SOM\", \"ZAF\", \"KOR\", \"SSD\", \"ESP\", \"LKA\", \"SDN\", \"SUR\", \"SWE\", \"CHE\", \"SYR\", \"TWN\", \"TJK\", \"TZA\", \"THA\", \"TLS\", \"TTO\", \"TUN\", \"TUR\", \"TKM\", \"UGA\", \"UKR\", \"ARE\", \"GBR\", \"USA\", \"URY\", \"UZB\", \"VUT\", \"VEN\", \"VNM\", \"YEM\", \"ZMB\", \"ZWE\"], \"marker\": {\"line\": {\"color\": \"darkgray\", \"width\": 0.5}}, \"reversescale\": false, \"text\": [\"Afghanistan \\nCases: 70.0 \\nDeaths: 1.0\", \"Albania \\nCases: 15.0 \\nDeaths: 0.0\", \"Algeria \\nCases: 120.0 \\nDeaths: 8.0\", \"Andorra \\nCases: 7.0 \\nDeaths: 3.0\", \"Angola \\nCases: 0.0 \\nDeaths: 0.0\", \"Argentina \\nCases: 0.0 \\nDeaths: 2.0\", \"Aruba \\nCases: 0.0 \\nDeaths: 0.0\", \"Australia \\nCases: 20.0 \\nDeaths: 4.0\", \"Austria \\nCases: 83.0 \\nDeaths: 5.0\", \"Azerbaijan \\nCases: 44.0 \\nDeaths: 1.0\", \"Bahrain \\nCases: 301.0 \\nDeaths: 0.0\", \"Bangladesh \\nCases: 503.0 \\nDeaths: 4.0\", \"Barbados \\nCases: 0.0 \\nDeaths: 0.0\", \"Belarus \\nCases: 751.0 \\nDeaths: 3.0\", \"Belgium \\nCases: 1496.0 \\nDeaths: 189.0\", \"Belize \\nCases: 0.0 \\nDeaths: 0.0\", \"Benin \\nCases: 0.0 \\nDeaths: 0.0\", \"Bermuda \\nCases: 0.0 \\nDeaths: 0.0\", \"Bhutan \\nCases: 0.0 \\nDeaths: 0.0\", \"Bolivia \\nCases: 104.0 \\nDeaths: 1.0\", \"Bosnia and Herzegovina \\nCases: 7.0 \\nDeaths: 1.0\", \"Botswana \\nCases: 0.0 \\nDeaths: 0.0\", \"Brazil \\nCases: 3503.0 \\nDeaths: 357.0\", \"Brunei \\nCases: 0.0 \\nDeaths: 0.0\", \"Bulgaria \\nCases: 91.0 \\nDeaths: 2.0\", \"Burkina Faso \\nCases: 10.0 \\nDeaths: 0.0\", \"Burundi \\nCases: 1.0 \\nDeaths: 0.0\", \"Cambodia \\nCases: 0.0 \\nDeaths: 0.0\", \"Cameroon \\nCases: 2.0 \\nDeaths: 0.0\", \"Canada \\nCases: 1778.0 \\nDeaths: 156.0\", \"Cape Verde \\nCases: 6.0 \\nDeaths: 0.0\", \"Central African Republic \\nCases: 2.0 \\nDeaths: 0.0\", \"Chad \\nCases: 0.0 \\nDeaths: 0.0\", \"Chile \\nCases: 494.0 \\nDeaths: 6.0\", \"China \\nCases: 15.0 \\nDeaths: 0.0\", \"Colombia \\nCases: 320.0 \\nDeaths: 10.0\", \"Congo \\nCases: 14.0 \\nDeaths: 0.0\", \"Costa Rica \\nCases: 0.0 \\nDeaths: 0.0\", \"Cote d'Ivoire \\nCases: 73.0 \\nDeaths: 0.0\", \"Croatia \\nCases: 28.0 \\nDeaths: 1.0\", \"Cuba \\nCases: 50.0 \\nDeaths: 6.0\", \"Cyprus \\nCases: 9.0 \\nDeaths: 0.0\", \"Czech Republic \\nCases: 85.0 \\nDeaths: 2.0\", \"Democratic Republic of Congo \\nCases: 22.0 \\nDeaths: 3.0\", \"Denmark \\nCases: 137.0 \\nDeaths: 9.0\", \"Djibouti \\nCases: 13.0 \\nDeaths: 0.0\", \"Dominica \\nCases: 0.0 \\nDeaths: 0.0\", \"Dominican Republic \\nCases: 206.0 \\nDeaths: 2.0\", \"Ecuador \\nCases: 0.0 \\nDeaths: 16.0\", \"Egypt \\nCases: 433.0 \\nDeaths: 18.0\", \"El Salvador \\nCases: 11.0 \\nDeaths: 0.0\", \"Eritrea \\nCases: 0.0 \\nDeaths: 0.0\", \"Estonia \\nCases: 13.0 \\nDeaths: 1.0\", \"Eswatini \\nCases: 8.0 \\nDeaths: 0.0\", \"Ethiopia \\nCases: 1.0 \\nDeaths: 0.0\", \"Fiji \\nCases: 0.0 \\nDeaths: 0.0\", \"Finland \\nCases: 111.0 \\nDeaths: 5.0\", \"France \\nCases: 1773.0 \\nDeaths: 389.0\", \"Gabon \\nCases: 5.0 \\nDeaths: 1.0\", \"Gambia \\nCases: 0.0 \\nDeaths: 0.0\", \"Georgia \\nCases: 19.0 \\nDeaths: 0.0\", \"Germany \\nCases: 2055.0 \\nDeaths: 179.0\", \"Ghana \\nCases: 125.0 \\nDeaths: 1.0\", \"Gibraltar \\nCases: 0.0 \\nDeaths: 0.0\", \"Greece \\nCases: 27.0 \\nDeaths: 5.0\", \"Greenland \\nCases: 0.0 \\nDeaths: 0.0\", \"Guam \\nCases: 1.0 \\nDeaths: 0.0\", \"Guatemala \\nCases: 46.0 \\nDeaths: 0.0\", \"Guinea \\nCases: 92.0 \\nDeaths: 0.0\", \"Guyana \\nCases: 3.0 \\nDeaths: 1.0\", \"Haiti \\nCases: 0.0 \\nDeaths: 0.0\", \"Honduras \\nCases: 72.0 \\nDeaths: 0.0\", \"Hong Kong \\nCases: 2.0 \\nDeaths: 0.0\", \"Hungary \\nCases: 60.0 \\nDeaths: 12.0\", \"Iceland \\nCases: 0.0 \\nDeaths: 0.0\", \"India \\nCases: 1429.0 \\nDeaths: 57.0\", \"Indonesia \\nCases: 436.0 \\nDeaths: 42.0\", \"Iran \\nCases: 1168.0 \\nDeaths: 93.0\", \"Iraq \\nCases: 31.0 \\nDeaths: 3.0\", \"Ireland \\nCases: 577.0 \\nDeaths: 35.0\", \"Israel \\nCases: 176.0 \\nDeaths: 1.0\", \"Italy \\nCases: 3021.0 \\nDeaths: 420.0\", \"Jamaica \\nCases: 36.0 \\nDeaths: 1.0\", \"Japan \\nCases: 652.0 \\nDeaths: 17.0\", \"Jordan \\nCases: 4.0 \\nDeaths: 0.0\", \"Kazakhstan \\nCases: 148.0 \\nDeaths: 3.0\", \"Kenya \\nCases: 16.0 \\nDeaths: 0.0\", \"Kosovo \\nCases: 28.0 \\nDeaths: 1.0\", \"Kuwait \\nCases: 215.0 \\nDeaths: 1.0\", \"Kyrgyz Republic \\nCases: 9.0 \\nDeaths: 0.0\", \"Laos \\nCases: 0.0 \\nDeaths: 0.0\", \"Lebanon \\nCases: 8.0 \\nDeaths: 0.0\", \"Lesotho \\nCases: 0.0 \\nDeaths: 0.0\", \"Liberia \\nCases: 16.0 \\nDeaths: 0.0\", \"Libya \\nCases: 1.0 \\nDeaths: 0.0\", \"Lithuania \\nCases: 0.0 \\nDeaths: 0.0\", \"Luxembourg \\nCases: 30.0 \\nDeaths: 2.0\", \"Macao \\nCases: 0.0 \\nDeaths: 0.0\", \"Madagascar \\nCases: 1.0 \\nDeaths: 0.0\", \"Malawi \\nCases: 0.0 \\nDeaths: 0.0\", \"Malaysia \\nCases: 88.0 \\nDeaths: 1.0\", \"Mali \\nCases: 16.0 \\nDeaths: 0.0\", \"Mauritania \\nCases: 0.0 \\nDeaths: 0.0\", \"Mauritius \\nCases: 0.0 \\nDeaths: 0.0\", \"Mexico \\nCases: 1239.0 \\nDeaths: 152.0\", \"Moldova \\nCases: 184.0 \\nDeaths: 7.0\", \"Mongolia \\nCases: 0.0 \\nDeaths: 0.0\", \"Morocco \\nCases: 190.0 \\nDeaths: 3.0\", \"Mozambique \\nCases: 19.0 \\nDeaths: 0.0\", \"Myanmar \\nCases: 12.0 \\nDeaths: 0.0\", \"Namibia \\nCases: 0.0 \\nDeaths: 0.0\", \"Nepal \\nCases: 1.0 \\nDeaths: 0.0\", \"Netherlands \\nCases: 806.0 \\nDeaths: 112.0\", \"New Zealand \\nCases: 3.0 \\nDeaths: 1.0\", \"Nicaragua \\nCases: 1.0 \\nDeaths: 1.0\", \"Niger \\nCases: 10.0 \\nDeaths: 0.0\", \"Nigeria \\nCases: 114.0 \\nDeaths: 1.0\", \"Norway \\nCases: 63.0 \\nDeaths: 11.0\", \"Oman \\nCases: 74.0 \\nDeaths: 1.0\", \"Pakistan \\nCases: 785.0 \\nDeaths: 16.0\", \"Palestine \\nCases: 4.0 \\nDeaths: 0.0\", \"Panama \\nCases: 172.0 \\nDeaths: 8.0\", \"Papua New Guinea \\nCases: 0.0 \\nDeaths: 0.0\", \"Paraguay \\nCases: 3.0 \\nDeaths: 0.0\", \"Peru \\nCases: 734.0 \\nDeaths: 62.0\", \"Philippines \\nCases: 211.0 \\nDeaths: 15.0\", \"Poland \\nCases: 381.0 \\nDeaths: 40.0\", \"Portugal \\nCases: 918.0 \\nDeaths: 60.0\", \"Puerto Rico \\nCases: 24.0 \\nDeaths: 8.0\", \"Qatar \\nCases: 761.0 \\nDeaths: 0.0\", \"Romania \\nCases: 321.0 \\nDeaths: 25.0\", \"Russia \\nCases: 5849.0 \\nDeaths: 60.0\", \"Rwanda \\nCases: 22.0 \\nDeaths: 0.0\", \"San Marino \\nCases: 12.0 \\nDeaths: 0.0\", \"Saudi Arabia \\nCases: 1172.0 \\nDeaths: 6.0\", \"Senegal \\nCases: 66.0 \\nDeaths: 1.0\", \"Serbia \\nCases: 207.0 \\nDeaths: 5.0\", \"Seychelles \\nCases: 0.0 \\nDeaths: 0.0\", \"Sierra Leone \\nCases: 18.0 \\nDeaths: 2.0\", \"Singapore \\nCases: 897.0 \\nDeaths: 0.0\", \"Slovak Republic \\nCases: 35.0 \\nDeaths: 2.0\", \"Slovenia \\nCases: 7.0 \\nDeaths: 1.0\", \"Solomon Islands \\nCases: 0.0 \\nDeaths: 0.0\", \"Somalia \\nCases: 0.0 \\nDeaths: 2.0\", \"South Africa \\nCases: 267.0 \\nDeaths: 4.0\", \"South Korea \\nCases: 10.0 \\nDeaths: 0.0\", \"South Sudan \\nCases: 1.0 \\nDeaths: 0.0\", \"Spain \\nCases: 2506.0 \\nDeaths: 378.0\", \"Sri Lanka \\nCases: 52.0 \\nDeaths: 0.0\", \"Sudan \\nCases: 12.0 \\nDeaths: 3.0\", \"Suriname \\nCases: 0.0 \\nDeaths: 0.0\", \"Sweden \\nCases: 812.0 \\nDeaths: 131.0\", \"Switzerland \\nCases: 181.0 \\nDeaths: 41.0\", \"Syria \\nCases: 0.0 \\nDeaths: 0.0\", \"Taiwan \\nCases: 1.0 \\nDeaths: 0.0\", \"Tajikistan \\nCases: 0.0 \\nDeaths: 0.0\", \"Tanzania \\nCases: 15.0 \\nDeaths: 0.0\", \"Thailand \\nCases: 15.0 \\nDeaths: 0.0\", \"Timor-Leste \\nCases: 1.0 \\nDeaths: 0.0\", \"Trinidad and Tobago \\nCases: 0.0 \\nDeaths: 0.0\", \"Tunisia \\nCases: 4.0 \\nDeaths: 0.0\", \"Turkey \\nCases: 3122.0 \\nDeaths: 109.0\", \"Turkmenistan \\nCases: 0.0 \\nDeaths: 0.0\", \"Uganda \\nCases: 1.0 \\nDeaths: 0.0\", \"Ukraine \\nCases: 478.0 \\nDeaths: 8.0\", \"United Arab Emirates \\nCases: 525.0 \\nDeaths: 8.0\", \"United Kingdom \\nCases: 5386.0 \\nDeaths: 1005.0\", \"United States \\nCases: 21352.0 \\nDeaths: 1054.0\", \"Uruguay \\nCases: 6.0 \\nDeaths: 0.0\", \"Uzbekistan \\nCases: 58.0 \\nDeaths: 1.0\", \"Vanuatu \\nCases: 0.0 \\nDeaths: 0.0\", \"Venezuela \\nCases: 20.0 \\nDeaths: 0.0\", \"Vietnam \\nCases: 0.0 \\nDeaths: 0.0\", \"Yemen \\nCases: 0.0 \\nDeaths: 0.0\", \"Zambia \\nCases: 8.0 \\nDeaths: 0.0\", \"Zimbabwe \\nCases: 0.0 \\nDeaths: 1.0\"], \"type\": \"choropleth\", \"z\": [70.0, 15.0, 120.0, 7.0, 0.0, 0.0, 0.0, 20.0, 83.0, 44.0, 301.0, 503.0, 0.0, 751.0, 1496.0, 0.0, 0.0, 0.0, 0.0, 104.0, 7.0, 0.0, 3503.0, 0.0, 91.0, 10.0, 1.0, 0.0, 2.0, 1778.0, 6.0, 2.0, 0.0, 494.0, 15.0, 320.0, 14.0, 0.0, 73.0, 28.0, 50.0, 9.0, 85.0, 22.0, 137.0, 13.0, 0.0, 206.0, 0.0, 433.0, 11.0, 0.0, 13.0, 8.0, 1.0, 0.0, 111.0, 1773.0, 5.0, 0.0, 19.0, 2055.0, 125.0, 0.0, 27.0, 0.0, 1.0, 46.0, 92.0, 3.0, 0.0, 72.0, 2.0, 60.0, 0.0, 1429.0, 436.0, 1168.0, 31.0, 577.0, 176.0, 3021.0, 36.0, 652.0, 4.0, 148.0, 16.0, 28.0, 215.0, 9.0, 0.0, 8.0, 0.0, 16.0, 1.0, 0.0, 30.0, 0.0, 1.0, 0.0, 88.0, 16.0, 0.0, 0.0, 1239.0, 184.0, 0.0, 190.0, 19.0, 12.0, 0.0, 1.0, 806.0, 3.0, 1.0, 10.0, 114.0, 63.0, 74.0, 785.0, 4.0, 172.0, 0.0, 3.0, 734.0, 211.0, 381.0, 918.0, 24.0, 761.0, 321.0, 5849.0, 22.0, 12.0, 1172.0, 66.0, 207.0, 0.0, 18.0, 897.0, 35.0, 7.0, 0.0, 0.0, 267.0, 10.0, 1.0, 2506.0, 52.0, 12.0, 0.0, 812.0, 181.0, 0.0, 1.0, 0.0, 15.0, 15.0, 1.0, 0.0, 4.0, 3122.0, 0.0, 1.0, 478.0, 525.0, 5386.0, 21352.0, 6.0, 58.0, 0.0, 20.0, 0.0, 0.0, 8.0, 0.0]}],\n                        {\"annotations\": [{\"showarrow\": false, \"text\": \"Source: Oxford Data\", \"x\": 0.55, \"xref\": \"paper\", \"y\": 0.1, \"yref\": \"paper\"}], \"geo\": {\"projection\": {\"type\": \"equirectangular\"}, \"showcoastlines\": false, \"showframe\": false}, \"template\": {\"data\": {\"bar\": [{\"error_x\": {\"color\": \"#2a3f5f\"}, \"error_y\": {\"color\": \"#2a3f5f\"}, \"marker\": {\"line\": {\"color\": \"#E5ECF6\", \"width\": 0.5}}, \"type\": \"bar\"}], \"barpolar\": [{\"marker\": {\"line\": {\"color\": \"#E5ECF6\", \"width\": 0.5}}, \"type\": \"barpolar\"}], \"carpet\": [{\"aaxis\": {\"endlinecolor\": \"#2a3f5f\", \"gridcolor\": \"white\", \"linecolor\": \"white\", \"minorgridcolor\": \"white\", \"startlinecolor\": \"#2a3f5f\"}, \"baxis\": {\"endlinecolor\": \"#2a3f5f\", \"gridcolor\": \"white\", \"linecolor\": \"white\", \"minorgridcolor\": \"white\", \"startlinecolor\": \"#2a3f5f\"}, \"type\": \"carpet\"}], \"choropleth\": [{\"colorbar\": {\"outlinewidth\": 0, \"ticks\": \"\"}, \"type\": \"choropleth\"}], \"contour\": [{\"colorbar\": {\"outlinewidth\": 0, \"ticks\": \"\"}, \"colorscale\": [[0.0, \"#0d0887\"], [0.1111111111111111, \"#46039f\"], [0.2222222222222222, \"#7201a8\"], [0.3333333333333333, \"#9c179e\"], [0.4444444444444444, \"#bd3786\"], [0.5555555555555556, \"#d8576b\"], [0.6666666666666666, \"#ed7953\"], [0.7777777777777778, \"#fb9f3a\"], [0.8888888888888888, \"#fdca26\"], [1.0, \"#f0f921\"]], \"type\": \"contour\"}], \"contourcarpet\": [{\"colorbar\": {\"outlinewidth\": 0, \"ticks\": \"\"}, \"type\": \"contourcarpet\"}], \"heatmap\": [{\"colorbar\": {\"outlinewidth\": 0, \"ticks\": \"\"}, \"colorscale\": [[0.0, \"#0d0887\"], [0.1111111111111111, \"#46039f\"], [0.2222222222222222, \"#7201a8\"], [0.3333333333333333, \"#9c179e\"], [0.4444444444444444, \"#bd3786\"], [0.5555555555555556, \"#d8576b\"], [0.6666666666666666, \"#ed7953\"], [0.7777777777777778, \"#fb9f3a\"], [0.8888888888888888, \"#fdca26\"], [1.0, \"#f0f921\"]], \"type\": \"heatmap\"}], \"heatmapgl\": [{\"colorbar\": {\"outlinewidth\": 0, \"ticks\": \"\"}, \"colorscale\": [[0.0, \"#0d0887\"], [0.1111111111111111, \"#46039f\"], [0.2222222222222222, \"#7201a8\"], [0.3333333333333333, \"#9c179e\"], [0.4444444444444444, \"#bd3786\"], [0.5555555555555556, \"#d8576b\"], [0.6666666666666666, \"#ed7953\"], [0.7777777777777778, \"#fb9f3a\"], [0.8888888888888888, \"#fdca26\"], [1.0, \"#f0f921\"]], \"type\": \"heatmapgl\"}], \"histogram\": [{\"marker\": {\"colorbar\": {\"outlinewidth\": 0, \"ticks\": \"\"}}, \"type\": \"histogram\"}], \"histogram2d\": [{\"colorbar\": {\"outlinewidth\": 0, \"ticks\": \"\"}, \"colorscale\": [[0.0, \"#0d0887\"], [0.1111111111111111, \"#46039f\"], [0.2222222222222222, \"#7201a8\"], [0.3333333333333333, \"#9c179e\"], [0.4444444444444444, \"#bd3786\"], [0.5555555555555556, \"#d8576b\"], [0.6666666666666666, \"#ed7953\"], [0.7777777777777778, \"#fb9f3a\"], [0.8888888888888888, \"#fdca26\"], [1.0, \"#f0f921\"]], \"type\": \"histogram2d\"}], \"histogram2dcontour\": [{\"colorbar\": {\"outlinewidth\": 0, \"ticks\": \"\"}, \"colorscale\": [[0.0, \"#0d0887\"], [0.1111111111111111, \"#46039f\"], [0.2222222222222222, \"#7201a8\"], [0.3333333333333333, \"#9c179e\"], [0.4444444444444444, \"#bd3786\"], [0.5555555555555556, \"#d8576b\"], [0.6666666666666666, \"#ed7953\"], [0.7777777777777778, \"#fb9f3a\"], [0.8888888888888888, \"#fdca26\"], [1.0, \"#f0f921\"]], \"type\": \"histogram2dcontour\"}], \"mesh3d\": [{\"colorbar\": {\"outlinewidth\": 0, \"ticks\": \"\"}, \"type\": \"mesh3d\"}], \"parcoords\": [{\"line\": {\"colorbar\": {\"outlinewidth\": 0, \"ticks\": \"\"}}, \"type\": \"parcoords\"}], \"pie\": [{\"automargin\": true, \"type\": \"pie\"}], \"scatter\": [{\"marker\": {\"colorbar\": {\"outlinewidth\": 0, \"ticks\": \"\"}}, \"type\": \"scatter\"}], \"scatter3d\": [{\"line\": {\"colorbar\": {\"outlinewidth\": 0, \"ticks\": \"\"}}, \"marker\": {\"colorbar\": {\"outlinewidth\": 0, \"ticks\": \"\"}}, \"type\": \"scatter3d\"}], \"scattercarpet\": [{\"marker\": {\"colorbar\": {\"outlinewidth\": 0, \"ticks\": \"\"}}, \"type\": \"scattercarpet\"}], \"scattergeo\": [{\"marker\": {\"colorbar\": {\"outlinewidth\": 0, \"ticks\": \"\"}}, \"type\": \"scattergeo\"}], \"scattergl\": [{\"marker\": {\"colorbar\": {\"outlinewidth\": 0, \"ticks\": \"\"}}, \"type\": \"scattergl\"}], \"scattermapbox\": [{\"marker\": {\"colorbar\": {\"outlinewidth\": 0, \"ticks\": \"\"}}, \"type\": \"scattermapbox\"}], \"scatterpolar\": [{\"marker\": {\"colorbar\": {\"outlinewidth\": 0, \"ticks\": \"\"}}, \"type\": \"scatterpolar\"}], \"scatterpolargl\": [{\"marker\": {\"colorbar\": {\"outlinewidth\": 0, \"ticks\": \"\"}}, \"type\": \"scatterpolargl\"}], \"scatterternary\": [{\"marker\": {\"colorbar\": {\"outlinewidth\": 0, \"ticks\": \"\"}}, \"type\": \"scatterternary\"}], \"surface\": [{\"colorbar\": {\"outlinewidth\": 0, \"ticks\": \"\"}, \"colorscale\": [[0.0, \"#0d0887\"], [0.1111111111111111, \"#46039f\"], [0.2222222222222222, \"#7201a8\"], [0.3333333333333333, \"#9c179e\"], [0.4444444444444444, \"#bd3786\"], [0.5555555555555556, \"#d8576b\"], [0.6666666666666666, \"#ed7953\"], [0.7777777777777778, \"#fb9f3a\"], [0.8888888888888888, \"#fdca26\"], [1.0, \"#f0f921\"]], \"type\": \"surface\"}], \"table\": [{\"cells\": {\"fill\": {\"color\": \"#EBF0F8\"}, \"line\": {\"color\": \"white\"}}, \"header\": {\"fill\": {\"color\": \"#C8D4E3\"}, \"line\": {\"color\": \"white\"}}, \"type\": \"table\"}]}, \"layout\": {\"annotationdefaults\": {\"arrowcolor\": \"#2a3f5f\", \"arrowhead\": 0, \"arrowwidth\": 1}, \"coloraxis\": {\"colorbar\": {\"outlinewidth\": 0, \"ticks\": \"\"}}, \"colorscale\": {\"diverging\": [[0, \"#8e0152\"], [0.1, \"#c51b7d\"], [0.2, \"#de77ae\"], [0.3, \"#f1b6da\"], [0.4, \"#fde0ef\"], [0.5, \"#f7f7f7\"], [0.6, \"#e6f5d0\"], [0.7, \"#b8e186\"], [0.8, \"#7fbc41\"], [0.9, \"#4d9221\"], [1, \"#276419\"]], \"sequential\": [[0.0, \"#0d0887\"], [0.1111111111111111, \"#46039f\"], [0.2222222222222222, \"#7201a8\"], [0.3333333333333333, \"#9c179e\"], [0.4444444444444444, \"#bd3786\"], [0.5555555555555556, \"#d8576b\"], [0.6666666666666666, \"#ed7953\"], [0.7777777777777778, \"#fb9f3a\"], [0.8888888888888888, \"#fdca26\"], [1.0, \"#f0f921\"]], \"sequentialminus\": [[0.0, \"#0d0887\"], [0.1111111111111111, \"#46039f\"], [0.2222222222222222, \"#7201a8\"], [0.3333333333333333, \"#9c179e\"], [0.4444444444444444, \"#bd3786\"], [0.5555555555555556, \"#d8576b\"], [0.6666666666666666, \"#ed7953\"], [0.7777777777777778, \"#fb9f3a\"], [0.8888888888888888, \"#fdca26\"], [1.0, \"#f0f921\"]]}, \"colorway\": [\"#636efa\", \"#EF553B\", \"#00cc96\", \"#ab63fa\", \"#FFA15A\", \"#19d3f3\", \"#FF6692\", \"#B6E880\", \"#FF97FF\", \"#FECB52\"], \"font\": {\"color\": \"#2a3f5f\"}, \"geo\": {\"bgcolor\": \"white\", \"lakecolor\": \"white\", \"landcolor\": \"#E5ECF6\", \"showlakes\": true, \"showland\": true, \"subunitcolor\": \"white\"}, \"hoverlabel\": {\"align\": \"left\"}, \"hovermode\": \"closest\", \"mapbox\": {\"style\": \"light\"}, \"paper_bgcolor\": \"white\", \"plot_bgcolor\": \"#E5ECF6\", \"polar\": {\"angularaxis\": {\"gridcolor\": \"white\", \"linecolor\": \"white\", \"ticks\": \"\"}, \"bgcolor\": \"#E5ECF6\", \"radialaxis\": {\"gridcolor\": \"white\", \"linecolor\": \"white\", \"ticks\": \"\"}}, \"scene\": {\"xaxis\": {\"backgroundcolor\": \"#E5ECF6\", \"gridcolor\": \"white\", \"gridwidth\": 2, \"linecolor\": \"white\", \"showbackground\": true, \"ticks\": \"\", \"zerolinecolor\": \"white\"}, \"yaxis\": {\"backgroundcolor\": \"#E5ECF6\", \"gridcolor\": \"white\", \"gridwidth\": 2, \"linecolor\": \"white\", \"showbackground\": true, \"ticks\": \"\", \"zerolinecolor\": \"white\"}, \"zaxis\": {\"backgroundcolor\": \"#E5ECF6\", \"gridcolor\": \"white\", \"gridwidth\": 2, \"linecolor\": \"white\", \"showbackground\": true, \"ticks\": \"\", \"zerolinecolor\": \"white\"}}, \"shapedefaults\": {\"line\": {\"color\": \"#2a3f5f\"}}, \"ternary\": {\"aaxis\": {\"gridcolor\": \"white\", \"linecolor\": \"white\", \"ticks\": \"\"}, \"baxis\": {\"gridcolor\": \"white\", \"linecolor\": \"white\", \"ticks\": \"\"}, \"bgcolor\": \"#E5ECF6\", \"caxis\": {\"gridcolor\": \"white\", \"linecolor\": \"white\", \"ticks\": \"\"}}, \"title\": {\"x\": 0.05}, \"xaxis\": {\"automargin\": true, \"gridcolor\": \"white\", \"linecolor\": \"white\", \"ticks\": \"\", \"title\": {\"standoff\": 15}, \"zerolinecolor\": \"white\", \"zerolinewidth\": 2}, \"yaxis\": {\"automargin\": true, \"gridcolor\": \"white\", \"linecolor\": \"white\", \"ticks\": \"\", \"title\": {\"standoff\": 15}, \"zerolinecolor\": \"white\", \"zerolinewidth\": 2}}}, \"title\": {\"text\": \"COVID - March -25th\"}},\n                        {\"responsive\": true}\n                    ).then(function(){\n                            \nvar gd = document.getElementById('0124fa3b-48f3-4359-ac37-0d9d40c980f8');\nvar x = new MutationObserver(function (mutations, observer) {{\n        var display = window.getComputedStyle(gd).display;\n        if (!display || display === 'none') {{\n            console.log([gd, 'removed!']);\n            Plotly.purge(gd);\n            observer.disconnect();\n        }}\n}});\n\n// Listen for the removal of the full notebook cells\nvar notebookContainer = gd.closest('#notebook-container');\nif (notebookContainer) {{\n    x.observe(notebookContainer, {childList: true});\n}}\n\n// Listen for the clearing of the current output cell\nvar outputEl = gd.closest('.output');\nif (outputEl) {{\n    x.observe(outputEl, {childList: true});\n}}\n\n                        })\n                };\n                });\n            </script>\n        </div>"
     },
     "metadata": {}
    }
   ],
   "source": [
    "fig = go.Figure(data=go.Choropleth(\n",
    "    locations = df_map['CountryCode'],\n",
    "    z = df_map['NewConfirmedCases'].astype(float),\n",
    "    text = df_map['text'],\n",
    "    colorscale = 'Picnic',\n",
    "    autocolorscale=False,\n",
    "    reversescale=False,\n",
    "    marker_line_color='darkgray',\n",
    "    marker_line_width=0.5,\n",
    "    colorbar_tickprefix = '-',\n",
    "    colorbar_title = 'Covid Cases',\n",
    "))\n",
    "\n",
    "fig.update_layout(\n",
    "    title_text='COVID - March -25th',\n",
    "    geo=dict(\n",
    "        showframe=False,\n",
    "        showcoastlines=False,\n",
    "        projection_type='equirectangular'\n",
    "    ),\n",
    "    annotations = [dict(\n",
    "        x=0.55,\n",
    "        y=0.1,\n",
    "        xref='paper',\n",
    "        yref='paper',\n",
    "        text='Source: Oxford Data',\n",
    "        showarrow = False\n",
    "    )]\n",
    ")\n"
   ]
  },
  {
   "cell_type": "markdown",
   "metadata": {},
   "source": [
    "Going for World Map"
   ]
  },
  {
   "cell_type": "code",
   "execution_count": 8,
   "metadata": {},
   "outputs": [],
   "source": [
    "url = 'https://raw.githubusercontent.com/uw-covid-hackathon/covid-visualization/master/OXFORD_latest_daily_columns.csv'\n",
    "latest_csv = pd.read_csv(url, error_bad_lines=False)"
   ]
  },
  {
   "cell_type": "code",
   "execution_count": 9,
   "metadata": {
    "colab": {},
    "colab_type": "code",
    "id": "vKXBPdrHwNcD"
   },
   "outputs": [],
   "source": [
    "data_slider = []\n",
    "for date in latest_csv.Date.unique():\n",
    "\n",
    "    # I select the year (and remove DC for now)\n",
    "    df_date = latest_csv[latest_csv['Date'] == date]\n",
    "\n",
    "    for col in df_date.columns:  # I transform the columns into string type so I can:\n",
    "        df_date[col] = df_date[col].astype(str)\n",
    "\n",
    "    ### I create the text for mouse-hover for each state, for the current year    \n",
    "    df_date['text'] = df_date['CountryName']+' Cases: ' + df_date['NewConfirmedCases'] +' Deaths: '+ df_date['NewConfirmedDeaths']\n",
    "\n",
    "    ### create the dictionary with the data for the current year\n",
    "    data_per_date =dict(\n",
    "        type='choropleth',\n",
    "        locations = df_date['CountryCode'],\n",
    "        z = df_date['NewConfirmedCases'].astype(float),\n",
    "        text = df_date['text'],\n",
    "        colorscale = 'Picnic',\n",
    "        autocolorscale=False,\n",
    "        reversescale=False,\n",
    "        marker_line_color='darkgray',\n",
    "        marker_line_width=0.5,\n",
    "        colorbar_tickprefix = '-',\n",
    "        colorbar_title = 'Covid Cases',\n",
    "    )\n",
    "\n",
    "    data_slider.append(data_per_date)  # I add the dictionary to the list of dictionaries for the slider\n"
   ]
  },
  {
   "cell_type": "code",
   "execution_count": 10,
   "metadata": {},
   "outputs": [],
   "source": [
    "steps = []\n",
    "dates = latest_csv.Date.unique()\n",
    "for i in range(len(data_slider)):\n",
    "    step = dict(method='restyle',\n",
    "                args=['visible', [False] * len(data_slider)],\n",
    "                label='{}'.format(dates[i])) # label to be displayed for each step (year)\n",
    "    step['args'][1][i] = True\n",
    "    steps.append(step)\n",
    "\n",
    "sliders = [dict(active=0, pad={\"t\": 1}, steps=steps)]  "
   ]
  },
  {
   "cell_type": "code",
   "execution_count": 12,
   "metadata": {},
   "outputs": [
    {
     "output_type": "execute_result",
     "data": {
      "text/plain": "'temp-plot.html'"
     },
     "metadata": {},
     "execution_count": 12
    }
   ],
   "source": [
    "layout = dict(title_text='COVID CASES per DAY',geo=dict(showframe=False,\n",
    "        showcoastlines=False,\n",
    "        projection_type='equirectangular'),\n",
    "        sliders=sliders)\n",
    "fig = dict(data=data_slider, layout=layout) \n",
    "plotly.offline.plot(fig)"
   ]
  }
 ],
 "metadata": {
  "colab": {
   "collapsed_sections": [],
   "name": "Visualizations.ipynb",
   "provenance": []
  },
  "kernelspec": {
   "display_name": "Python 3",
   "language": "python",
   "name": "python3"
  },
  "language_info": {
   "codemirror_mode": {
    "name": "ipython",
    "version": 3
   },
   "file_extension": ".py",
   "mimetype": "text/x-python",
   "name": "python",
   "nbconvert_exporter": "python",
   "pygments_lexer": "ipython3",
   "version": "3.7.4-final"
  }
 },
 "nbformat": 4,
 "nbformat_minor": 1
}