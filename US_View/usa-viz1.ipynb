{
 "cells": [
  {
   "cell_type": "markdown",
   "metadata": {},
   "source": [
    "# USA View Viz 1"
   ]
  },
  {
   "cell_type": "code",
   "execution_count": 1,
   "metadata": {
    "colab": {
     "base_uri": "https://localhost:8080/",
     "height": 17
    },
    "colab_type": "code",
    "id": "-JMVWkTZr42L",
    "outputId": "76f4519d-5dd6-4f74-b309-ebe9118d9baf"
   },
   "outputs": [
    {
     "output_type": "display_data",
     "data": {
      "text/html": "        <script type=\"text/javascript\">\n        window.PlotlyConfig = {MathJaxConfig: 'local'};\n        if (window.MathJax) {MathJax.Hub.Config({SVG: {font: \"STIX-Web\"}});}\n        if (typeof require !== 'undefined') {\n        require.undef(\"plotly\");\n        requirejs.config({\n            paths: {\n                'plotly': ['https://cdn.plot.ly/plotly-latest.min']\n            }\n        });\n        require(['plotly'], function(Plotly) {\n            window._Plotly = Plotly;\n        });\n        }\n        </script>\n        "
     },
     "metadata": {}
    }
   ],
   "source": [
    "import pandas as pd\n",
    "import numpy as np\n",
    "import matplotlib as mp\n",
    "import sklearn as sk\n",
    "import plotly\n",
    "import plotly.graph_objs as go\n",
    "import plotly.offline as offline\n",
    "from plotly.graph_objs import *\n",
    "from plotly.offline import download_plotlyjs, init_notebook_mode, plot, iplot\n",
    "init_notebook_mode(connected=True)"
   ]
  },
  {
   "cell_type": "code",
   "execution_count": 2,
   "metadata": {},
   "outputs": [
    {
     "output_type": "stream",
     "name": "stdout",
     "text": "<class 'pandas.core.frame.DataFrame'>\nRangeIndex: 5679 entries, 0 to 5678\nData columns (total 5 columns):\n #   Column  Non-Null Count  Dtype \n---  ------  --------------  ----- \n 0   date    5679 non-null   object\n 1   state   5679 non-null   object\n 2   fips    5679 non-null   int64 \n 3   cases   5679 non-null   int64 \n 4   deaths  5679 non-null   int64 \ndtypes: int64(3), object(2)\nmemory usage: 222.0+ KB\n"
    }
   ],
   "source": [
    "url = 'https://raw.githubusercontent.com/nytimes/covid-19-data/master/us-states.csv'\n",
    "latest_csv = pd.read_csv(url, error_bad_lines=False)\n",
    "latest_csv.info()"
   ]
  },
  {
   "cell_type": "markdown",
   "metadata": {},
   "source": [
    "Till Here--------------------------------------"
   ]
  },
  {
   "cell_type": "code",
   "execution_count": null,
   "metadata": {},
   "outputs": [],
   "source": [
    "data_slider = []\n",
    "for date in latest_csv.Date.unique():\n",
    "\n",
    "    # I select the year (and remove DC for now)\n",
    "    df_date = latest_csv[latest_csv['Date'] == date]\n",
    "\n",
    "    for col in df_date.columns:  # I transform the columns into string type so I can:\n",
    "        df_date[col] = df_date[col].astype(str)\n",
    "\n",
    "    ### I create the text for mouse-hover for each state, for the current year    \n",
    "    df_date['text'] = df_date['CountryName']+' Cases: ' + df_date['NewConfirmedCases'] +' Deaths: '+ df_date['NewConfirmedDeaths']\n",
    "\n",
    "    ### create the dictionary with the data for the current year\n",
    "    data_per_date =dict(\n",
    "        type='choropleth',\n",
    "        locations = df_date['CountryCode'],\n",
    "        z = df_date['NewConfirmedCases'].astype(float),\n",
    "        text = df_date['text'],\n",
    "        colorscale = 'Picnic',\n",
    "        autocolorscale=False,\n",
    "        reversescale=False,\n",
    "        marker_line_color='darkgray',\n",
    "        marker_line_width=0.5,\n",
    "        colorbar_tickprefix = '-',\n",
    "        colorbar_title = 'Covid Cases',\n",
    "    )\n",
    "\n",
    "    data_slider.append(data_per_date)  # I add the dictionary to the list of dictionaries for the slider\n"
   ]
  }
 ],
 "metadata": {
  "colab": {
   "collapsed_sections": [],
   "name": "Visualizations.ipynb",
   "provenance": []
  },
  "kernelspec": {
   "display_name": "Python 3",
   "language": "python",
   "name": "python3"
  },
  "language_info": {
   "codemirror_mode": {
    "name": "ipython",
    "version": 3
   },
   "file_extension": ".py",
   "mimetype": "text/x-python",
   "name": "python",
   "nbconvert_exporter": "python",
   "pygments_lexer": "ipython3",
   "version": "3.7.4-final"
  }
 },
 "nbformat": 4,
 "nbformat_minor": 1
}